{
 "cells": [
  {
   "cell_type": "code",
   "execution_count": null,
   "metadata": {},
   "outputs": [],
   "source": [
    "# # Copy to top of each NB.ipynb to load all config files\n",
    "# import os\n",
    "# import glob\n",
    "\n",
    "# project_name = 'Obsolescence_Predictions'\n",
    "# config_dir = f'C:/Users/delst/OneDrive/Desktop/Code/Workspace/{project_name}/A_Root_Dir/Configurations'\n",
    "\n",
    "# txt_files = glob.glob(os.path.join(config_dir, '*.txt'))\n",
    "\n",
    "# for file_path in txt_files:\n",
    "#     with open(file_path, 'r') as file:\n",
    "#         content = file.read()\n",
    "#         exec(content)\n",
    "\n",
    "# start_time = datetime.datetime.now().replace(microsecond=0)"
   ]
  },
  {
   "cell_type": "code",
   "execution_count": null,
   "metadata": {},
   "outputs": [],
   "source": [
    "# Copy to the top of the Virtual_Environment.txt\n",
    "project_name = 'Project_Planning_Assistant'\n",
    "project_dir = f'C:/Users/delst/OneDrive/Desktop/Code/Workspace/{project_name}'\n",
    "\n",
    "import sys\n",
    "sys.path.append(project_dir)"
   ]
  },
  {
   "cell_type": "code",
   "execution_count": null,
   "metadata": {},
   "outputs": [],
   "source": [
    "# Copy to top of each Module.py or Utility.py\n",
    "project_name = 'Project_Planning_Assistant'\n",
    "dependencies_path = f'C:/Users/delst/OneDrive/Desktop/Code/Workspace/{project_name}/Libraries/dependencies.py'\n",
    "with open(dependencies_path, 'r') as file:\n",
    "    code = file.read()\n",
    "    exec(code)"
   ]
  }
 ],
 "metadata": {
  "language_info": {
   "name": "python"
  },
  "orig_nbformat": 4
 },
 "nbformat": 4,
 "nbformat_minor": 2
}
