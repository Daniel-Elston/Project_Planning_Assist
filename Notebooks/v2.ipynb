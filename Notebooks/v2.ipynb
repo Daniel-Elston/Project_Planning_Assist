{
 "cells": [
  {
   "cell_type": "code",
   "execution_count": 1,
   "metadata": {},
   "outputs": [
    {
     "ename": "NameError",
     "evalue": "name 'color' is not defined",
     "output_type": "error",
     "traceback": [
      "\u001b[1;31m---------------------------------------------------------------------------\u001b[0m",
      "\u001b[1;31mNameError\u001b[0m                                 Traceback (most recent call last)",
      "Cell \u001b[1;32mIn[1], line 47\u001b[0m\n\u001b[0;32m     44\u001b[0m df[\u001b[39m'\u001b[39m\u001b[39mcurrent_num\u001b[39m\u001b[39m'\u001b[39m] \u001b[39m=\u001b[39m df[\u001b[39m'\u001b[39m\u001b[39mdays_start_to_end\u001b[39m\u001b[39m'\u001b[39m] \u001b[39m*\u001b[39m df[\u001b[39m'\u001b[39m\u001b[39mcompletion\u001b[39m\u001b[39m'\u001b[39m]\n\u001b[0;32m     46\u001b[0m \u001b[39m# Assign color based on completion\u001b[39;00m\n\u001b[1;32m---> 47\u001b[0m df[\u001b[39m'\u001b[39m\u001b[39mcolor\u001b[39m\u001b[39m'\u001b[39m] \u001b[39m=\u001b[39m df\u001b[39m.\u001b[39mapply(color, axis\u001b[39m=\u001b[39m\u001b[39m1\u001b[39m)\n\u001b[0;32m     49\u001b[0m df\n",
      "\u001b[1;31mNameError\u001b[0m: name 'color' is not defined"
     ]
    }
   ],
   "source": [
    "import pandas as pd\n",
    "import numpy as np\n",
    "import random\n",
    "from datetime import datetime, timedelta\n",
    "\n",
    "stages = [\n",
    "    'Metadata', 'Initial_Processing', 'Initial_Exploration',\n",
    "    'Preprocessing', 'Feature_Engineering', 'Data_Validation',\n",
    "    'Model_Selection', 'Model_Training', 'Model_Validation',\n",
    "    'Hyperparameter_Tuning', 'Model_Evaluation', 'Model_Deployment',\n",
    "    'Model_Optimization', 'Pipeline_Maintenance', 'Data_Review'\n",
    "]\n",
    "\n",
    "# Define start and end times (9AM to 5PM)\n",
    "start_time = 9\n",
    "end_time = 17\n",
    "\n",
    "# Generate start dates\n",
    "start_dates = [datetime.today()]\n",
    "for _ in range(len(stages)-1):\n",
    "    start_dates.append(start_dates[-1] + timedelta(days=random.randint(1,5)))\n",
    "\n",
    "# Generate end dates based on start dates\n",
    "end_dates = [start_date + timedelta(hours=end_time-start_time) for start_date in start_dates]\n",
    "\n",
    "df = pd.DataFrame({\n",
    "    'Stage': stages,\n",
    "    'start_date': start_dates,\n",
    "    'end_date': end_dates,\n",
    "    'completion': np.round(np.random.uniform(0.1, 1.0, len(stages)), 2),\n",
    "    'starting_hour': start_time,\n",
    "    'ending_hour': end_time\n",
    "})\n",
    "\n",
    "# Compute total hours spent per stage\n",
    "df['total_hours_spent'] = df['ending_hour'] - df['starting_hour']\n",
    "\n",
    "# Convert start_date and end_date to a number (of days since some point)\n",
    "df['start_num'] = (df['start_date'] - df['start_date'].min()).dt.days\n",
    "df['end_num'] = (df['end_date'] - df['start_date'].min()).dt.days\n",
    "df['days_start_to_end'] = df['end_num'] - df['start_num']\n",
    "\n",
    "# Calculate the current progress\n",
    "df['current_num'] = df['days_start_to_end'] * df['completion']\n",
    "\n",
    "# Assign color based on completion\n",
    "df['color'] = df.apply(color, axis=1)\n",
    "\n",
    "df\n"
   ]
  },
  {
   "cell_type": "code",
   "execution_count": null,
   "metadata": {},
   "outputs": [],
   "source": []
  }
 ],
 "metadata": {
  "kernelspec": {
   "display_name": "Python 3",
   "language": "python",
   "name": "python3"
  },
  "language_info": {
   "codemirror_mode": {
    "name": "ipython",
    "version": 3
   },
   "file_extension": ".py",
   "mimetype": "text/x-python",
   "name": "python",
   "nbconvert_exporter": "python",
   "pygments_lexer": "ipython3",
   "version": "3.11.3"
  },
  "orig_nbformat": 4
 },
 "nbformat": 4,
 "nbformat_minor": 2
}
