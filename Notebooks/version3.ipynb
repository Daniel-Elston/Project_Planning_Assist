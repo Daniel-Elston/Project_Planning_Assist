{
 "cells": [
  {
   "cell_type": "code",
   "execution_count": 1,
   "metadata": {},
   "outputs": [],
   "source": [
    "# Copy to top of each NB.ipynb to load all config files\n",
    "import os\n",
    "import glob\n",
    "\n",
    "import pandas as pd\n",
    "import numpy as np\n",
    "from random import randint\n",
    "from datetime import timedelta, datetime\n",
    "\n",
    "import plotly.express as px\n",
    "import plotly.graph_objects as go\n",
    "\n",
    "project_name = 'Project_Planning_Assistant'\n",
    "config_dir = f'C:/Users/delst/OneDrive/Desktop/Code/Workspace/{project_name}/A_Root_Dir/Configurations'\n",
    "\n",
    "txt_files = glob.glob(os.path.join(config_dir, '*.txt'))\n",
    "\n",
    "for file_path in txt_files:\n",
    "    with open(file_path, 'r') as file:\n",
    "        content = file.read()\n",
    "        exec(content)\n",
    "\n",
    "start_time = datetime.datetime.now().replace(microsecond=0)"
   ]
  },
  {
   "cell_type": "markdown",
   "metadata": {},
   "source": [
    "---"
   ]
  },
  {
   "cell_type": "code",
   "execution_count": null,
   "metadata": {},
   "outputs": [],
   "source": []
  },
  {
   "cell_type": "code",
   "execution_count": 2,
   "metadata": {},
   "outputs": [],
   "source": [
    "suggested_end_hours = [\n",
    "    4,\n",
    "    7,\n",
    "    24,\n",
    "    43,\n",
    "    48,\n",
    "    52,\n",
    "    56,\n",
    "    72,\n",
    "    80,\n",
    "    84,\n",
    "    96,\n",
    "    100,\n",
    "    104,\n",
    "    108,\n",
    "    112,\n",
    "    116,\n",
    "    120,\n",
    "    np.nan\n",
    "]\n",
    "\n",
    "stage_list = [\n",
    "    'Metadata', \n",
    "    'Initial_Processing', \n",
    "    'Initial_Exploration',\n",
    "    'Preprocessing', \n",
    "    'Feature_Engineering',\n",
    "    'Data_Validation', \n",
    "    'Model_Selection', \n",
    "    'Model_Training',\n",
    "    'Model_Validation', \n",
    "    'Hyperparameter_Tuning', \n",
    "    'Model_Evaluation',\n",
    "    'Model_Deployment', \n",
    "    'Model_Optimization', \n",
    "    'Maintenance',\n",
    "    'Review',\n",
    "    'Pipeline_Maintenance',\n",
    "    'General_Maintenance',\n",
    "    'Misc',\n",
    "]\n",
    "    \n",
    "\n",
    "start_dates = [\n",
    "    \"18/05/2023\",\n",
    "    \"18/05/2023\",\n",
    "    \"18/05/2023\",\n",
    "    \"19/05/2023\",\n",
    "    \"19/05/2023\",\n",
    "    \"19/05/2023\",\n",
    "    \"20/05/2023\",\n",
    "    \"20/05/2023\",\n",
    "    \"20/05/2023\",\n",
    "    \"21/05/2023\",\n",
    "    \"21/05/2023\",\n",
    "    \"21/05/2023\",\n",
    "    \"22/05/2023\",\n",
    "    \"22/05/2023\",\n",
    "    \"22/05/2023\",\n",
    "    \"22/05/2023\",\n",
    "    \"22/05/2023\",\n",
    "    \"22/05/2023\",\n",
    "]\n",
    "\n",
    "end_dates = [\n",
    "    \"18/05/2023\",\n",
    "    \"18/05/2023\",\n",
    "    \"18/05/2023\",\n",
    "    \"19/05/2023\",\n",
    "    \"19/05/2023\",\n",
    "    \"19/05/2023\",\n",
    "    \"20/05/2023\",\n",
    "    \"20/05/2023\",\n",
    "    \"20/05/2023\",\n",
    "    \"21/05/2023\",\n",
    "    \"21/05/2023\",\n",
    "    \"21/05/2023\",\n",
    "    \"22/05/2023\",\n",
    "    \"22/05/2023\",\n",
    "    \"22/05/2023\",\n",
    "    \"22/05/2023\",\n",
    "    \"22/05/2023\",\n",
    "    \"22/05/2023\",\n",
    "]\n",
    "\n",
    "start_hours = [\n",
    "    0,\n",
    "    4,\n",
    "    7,\n",
    "    24,\n",
    "    43,\n",
    "    48,\n",
    "    52,\n",
    "    56,\n",
    "    72,\n",
    "    80,\n",
    "    84,\n",
    "    96,\n",
    "    100,\n",
    "    104,\n",
    "    108,\n",
    "    112,\n",
    "    116,\n",
    "    120\n",
    "]"
   ]
  },
  {
   "cell_type": "code",
   "execution_count": 3,
   "metadata": {},
   "outputs": [],
   "source": [
    "# get the difference between each value in a list suggested_end_hours\n",
    "def get_diff(suggested_end_hours):\n",
    "    diff = []\n",
    "    for i in range(len(suggested_end_hours)):\n",
    "        if i == 0:\n",
    "            diff.append(suggested_end_hours[i])\n",
    "        else:\n",
    "            diff.append(suggested_end_hours[i] - suggested_end_hours[i-1])\n",
    "    return diff\n",
    "estimated_hours_to_complete = get_diff(suggested_end_hours)\n",
    "\n",
    "#randomly add or take away 1 2 or 3 form end hours list\n",
    "def randomize_hours(suggested_end_hours):\n",
    "    true_end_hours = []\n",
    "    for i in suggested_end_hours:\n",
    "        if np.isnan(i):\n",
    "            true_end_hours.append(i)\n",
    "        else:\n",
    "            true_end_hours.append(i + randint(-3, 3))\n",
    "    return true_end_hours\n",
    "true_end_hours = randomize_hours(suggested_end_hours)\n",
    "# starting_hour = df['true_end_hours'].shift(fill_value=0)"
   ]
  },
  {
   "cell_type": "code",
   "execution_count": 4,
   "metadata": {},
   "outputs": [],
   "source": [
    "df = pd.DataFrame({\n",
    "    'Stage': stage_list,\n",
    "    'start_date': start_dates,\n",
    "    'end_date': end_dates,\n",
    "    'suggested_ending_hour': suggested_end_hours, \n",
    "    'true_end_hours': true_end_hours,\n",
    "})\n",
    "\n",
    "\n",
    "df['starting_hour'] = df['true_end_hours'].shift(fill_value=0)\n",
    "starting_hour = df['true_end_hours'].shift(fill_value=0)\n",
    "\n",
    "hours_spent = df.true_end_hours - df.starting_hour\n",
    "hours_spent = hours_spent.fillna(0)\n",
    "\n",
    "# df['true_end_hours'].shift(fill_value=0),"
   ]
  },
  {
   "cell_type": "code",
   "execution_count": 5,
   "metadata": {},
   "outputs": [],
   "source": [
    "suggested_end_hours = [\n",
    "    4,\n",
    "    9,\n",
    "    24,\n",
    "    43,\n",
    "    48,\n",
    "    52,\n",
    "    56,\n",
    "    72,\n",
    "    80,\n",
    "    84,\n",
    "    96,\n",
    "    104,\n",
    "    110,\n",
    "    120,\n",
    "    128,\n",
    "    136,\n",
    "    144,\n",
    "    np.nan\n",
    "]\n"
   ]
  },
  {
   "cell_type": "code",
   "execution_count": 6,
   "metadata": {},
   "outputs": [
    {
     "data": {
      "text/plain": [
       "0       4.0\n",
       "1       9.0\n",
       "2      22.0\n",
       "3      41.0\n",
       "4      45.0\n",
       "5      51.0\n",
       "6      57.0\n",
       "7      71.0\n",
       "8      80.0\n",
       "9      82.0\n",
       "10     96.0\n",
       "11    103.0\n",
       "12    103.0\n",
       "13    106.0\n",
       "14    110.0\n",
       "15    116.0\n",
       "16    119.0\n",
       "17      NaN\n",
       "Name: starting_hour, dtype: float64"
      ]
     },
     "execution_count": 6,
     "metadata": {},
     "output_type": "execute_result"
    }
   ],
   "source": [
    "new_suggested_end_hours = df.starting_hour + estimated_hours_to_complete\n",
    "new_suggested_end_hours"
   ]
  },
  {
   "cell_type": "code",
   "execution_count": 7,
   "metadata": {},
   "outputs": [
    {
     "data": {
      "text/html": [
       "<div>\n",
       "<style scoped>\n",
       "    .dataframe tbody tr th:only-of-type {\n",
       "        vertical-align: middle;\n",
       "    }\n",
       "\n",
       "    .dataframe tbody tr th {\n",
       "        vertical-align: top;\n",
       "    }\n",
       "\n",
       "    .dataframe thead th {\n",
       "        text-align: right;\n",
       "    }\n",
       "</style>\n",
       "<table border=\"1\" class=\"dataframe\">\n",
       "  <thead>\n",
       "    <tr style=\"text-align: right;\">\n",
       "      <th></th>\n",
       "      <th>Stage</th>\n",
       "      <th>start_date</th>\n",
       "      <th>end_date</th>\n",
       "      <th>starting_hour</th>\n",
       "      <th>estimated_hours_to_complete</th>\n",
       "      <th>true_end_hour</th>\n",
       "      <th>hours_spent</th>\n",
       "    </tr>\n",
       "  </thead>\n",
       "  <tbody>\n",
       "    <tr>\n",
       "      <th>0</th>\n",
       "      <td>Metadata</td>\n",
       "      <td>18/05/2023</td>\n",
       "      <td>18/05/2023</td>\n",
       "      <td>0.0</td>\n",
       "      <td>4.0</td>\n",
       "      <td>6.0</td>\n",
       "      <td>6.0</td>\n",
       "    </tr>\n",
       "    <tr>\n",
       "      <th>1</th>\n",
       "      <td>Initial_Processing</td>\n",
       "      <td>18/05/2023</td>\n",
       "      <td>18/05/2023</td>\n",
       "      <td>6.0</td>\n",
       "      <td>9.0</td>\n",
       "      <td>5.0</td>\n",
       "      <td>-1.0</td>\n",
       "    </tr>\n",
       "    <tr>\n",
       "      <th>2</th>\n",
       "      <td>Initial_Exploration</td>\n",
       "      <td>18/05/2023</td>\n",
       "      <td>18/05/2023</td>\n",
       "      <td>5.0</td>\n",
       "      <td>22.0</td>\n",
       "      <td>22.0</td>\n",
       "      <td>17.0</td>\n",
       "    </tr>\n",
       "    <tr>\n",
       "      <th>3</th>\n",
       "      <td>Preprocessing</td>\n",
       "      <td>19/05/2023</td>\n",
       "      <td>19/05/2023</td>\n",
       "      <td>22.0</td>\n",
       "      <td>41.0</td>\n",
       "      <td>40.0</td>\n",
       "      <td>18.0</td>\n",
       "    </tr>\n",
       "    <tr>\n",
       "      <th>4</th>\n",
       "      <td>Feature_Engineering</td>\n",
       "      <td>19/05/2023</td>\n",
       "      <td>19/05/2023</td>\n",
       "      <td>40.0</td>\n",
       "      <td>45.0</td>\n",
       "      <td>47.0</td>\n",
       "      <td>7.0</td>\n",
       "    </tr>\n",
       "    <tr>\n",
       "      <th>5</th>\n",
       "      <td>Data_Validation</td>\n",
       "      <td>19/05/2023</td>\n",
       "      <td>19/05/2023</td>\n",
       "      <td>47.0</td>\n",
       "      <td>51.0</td>\n",
       "      <td>53.0</td>\n",
       "      <td>6.0</td>\n",
       "    </tr>\n",
       "    <tr>\n",
       "      <th>6</th>\n",
       "      <td>Model_Selection</td>\n",
       "      <td>20/05/2023</td>\n",
       "      <td>20/05/2023</td>\n",
       "      <td>53.0</td>\n",
       "      <td>57.0</td>\n",
       "      <td>55.0</td>\n",
       "      <td>2.0</td>\n",
       "    </tr>\n",
       "    <tr>\n",
       "      <th>7</th>\n",
       "      <td>Model_Training</td>\n",
       "      <td>20/05/2023</td>\n",
       "      <td>20/05/2023</td>\n",
       "      <td>55.0</td>\n",
       "      <td>71.0</td>\n",
       "      <td>72.0</td>\n",
       "      <td>17.0</td>\n",
       "    </tr>\n",
       "    <tr>\n",
       "      <th>8</th>\n",
       "      <td>Model_Validation</td>\n",
       "      <td>20/05/2023</td>\n",
       "      <td>20/05/2023</td>\n",
       "      <td>72.0</td>\n",
       "      <td>80.0</td>\n",
       "      <td>78.0</td>\n",
       "      <td>6.0</td>\n",
       "    </tr>\n",
       "    <tr>\n",
       "      <th>9</th>\n",
       "      <td>Hyperparameter_Tuning</td>\n",
       "      <td>21/05/2023</td>\n",
       "      <td>21/05/2023</td>\n",
       "      <td>78.0</td>\n",
       "      <td>82.0</td>\n",
       "      <td>84.0</td>\n",
       "      <td>6.0</td>\n",
       "    </tr>\n",
       "    <tr>\n",
       "      <th>10</th>\n",
       "      <td>Model_Evaluation</td>\n",
       "      <td>21/05/2023</td>\n",
       "      <td>21/05/2023</td>\n",
       "      <td>84.0</td>\n",
       "      <td>96.0</td>\n",
       "      <td>99.0</td>\n",
       "      <td>15.0</td>\n",
       "    </tr>\n",
       "    <tr>\n",
       "      <th>11</th>\n",
       "      <td>Model_Deployment</td>\n",
       "      <td>21/05/2023</td>\n",
       "      <td>21/05/2023</td>\n",
       "      <td>99.0</td>\n",
       "      <td>103.0</td>\n",
       "      <td>99.0</td>\n",
       "      <td>0.0</td>\n",
       "    </tr>\n",
       "    <tr>\n",
       "      <th>12</th>\n",
       "      <td>Model_Optimization</td>\n",
       "      <td>22/05/2023</td>\n",
       "      <td>22/05/2023</td>\n",
       "      <td>99.0</td>\n",
       "      <td>103.0</td>\n",
       "      <td>102.0</td>\n",
       "      <td>3.0</td>\n",
       "    </tr>\n",
       "    <tr>\n",
       "      <th>13</th>\n",
       "      <td>Maintenance</td>\n",
       "      <td>22/05/2023</td>\n",
       "      <td>22/05/2023</td>\n",
       "      <td>102.0</td>\n",
       "      <td>106.0</td>\n",
       "      <td>106.0</td>\n",
       "      <td>4.0</td>\n",
       "    </tr>\n",
       "    <tr>\n",
       "      <th>14</th>\n",
       "      <td>Review</td>\n",
       "      <td>22/05/2023</td>\n",
       "      <td>22/05/2023</td>\n",
       "      <td>106.0</td>\n",
       "      <td>110.0</td>\n",
       "      <td>112.0</td>\n",
       "      <td>6.0</td>\n",
       "    </tr>\n",
       "    <tr>\n",
       "      <th>15</th>\n",
       "      <td>Pipeline_Maintenance</td>\n",
       "      <td>22/05/2023</td>\n",
       "      <td>22/05/2023</td>\n",
       "      <td>112.0</td>\n",
       "      <td>116.0</td>\n",
       "      <td>115.0</td>\n",
       "      <td>3.0</td>\n",
       "    </tr>\n",
       "    <tr>\n",
       "      <th>16</th>\n",
       "      <td>General_Maintenance</td>\n",
       "      <td>22/05/2023</td>\n",
       "      <td>22/05/2023</td>\n",
       "      <td>115.0</td>\n",
       "      <td>119.0</td>\n",
       "      <td>119.0</td>\n",
       "      <td>4.0</td>\n",
       "    </tr>\n",
       "    <tr>\n",
       "      <th>17</th>\n",
       "      <td>Misc</td>\n",
       "      <td>22/05/2023</td>\n",
       "      <td>22/05/2023</td>\n",
       "      <td>119.0</td>\n",
       "      <td>NaN</td>\n",
       "      <td>NaN</td>\n",
       "      <td>0.0</td>\n",
       "    </tr>\n",
       "  </tbody>\n",
       "</table>\n",
       "</div>"
      ],
      "text/plain": [
       "                    Stage  start_date    end_date  starting_hour   \n",
       "0                Metadata  18/05/2023  18/05/2023            0.0  \\\n",
       "1      Initial_Processing  18/05/2023  18/05/2023            6.0   \n",
       "2     Initial_Exploration  18/05/2023  18/05/2023            5.0   \n",
       "3           Preprocessing  19/05/2023  19/05/2023           22.0   \n",
       "4     Feature_Engineering  19/05/2023  19/05/2023           40.0   \n",
       "5         Data_Validation  19/05/2023  19/05/2023           47.0   \n",
       "6         Model_Selection  20/05/2023  20/05/2023           53.0   \n",
       "7          Model_Training  20/05/2023  20/05/2023           55.0   \n",
       "8        Model_Validation  20/05/2023  20/05/2023           72.0   \n",
       "9   Hyperparameter_Tuning  21/05/2023  21/05/2023           78.0   \n",
       "10       Model_Evaluation  21/05/2023  21/05/2023           84.0   \n",
       "11       Model_Deployment  21/05/2023  21/05/2023           99.0   \n",
       "12     Model_Optimization  22/05/2023  22/05/2023           99.0   \n",
       "13            Maintenance  22/05/2023  22/05/2023          102.0   \n",
       "14                 Review  22/05/2023  22/05/2023          106.0   \n",
       "15   Pipeline_Maintenance  22/05/2023  22/05/2023          112.0   \n",
       "16    General_Maintenance  22/05/2023  22/05/2023          115.0   \n",
       "17                   Misc  22/05/2023  22/05/2023          119.0   \n",
       "\n",
       "    estimated_hours_to_complete  true_end_hour  hours_spent  \n",
       "0                           4.0            6.0          6.0  \n",
       "1                           9.0            5.0         -1.0  \n",
       "2                          22.0           22.0         17.0  \n",
       "3                          41.0           40.0         18.0  \n",
       "4                          45.0           47.0          7.0  \n",
       "5                          51.0           53.0          6.0  \n",
       "6                          57.0           55.0          2.0  \n",
       "7                          71.0           72.0         17.0  \n",
       "8                          80.0           78.0          6.0  \n",
       "9                          82.0           84.0          6.0  \n",
       "10                         96.0           99.0         15.0  \n",
       "11                        103.0           99.0          0.0  \n",
       "12                        103.0          102.0          3.0  \n",
       "13                        106.0          106.0          4.0  \n",
       "14                        110.0          112.0          6.0  \n",
       "15                        116.0          115.0          3.0  \n",
       "16                        119.0          119.0          4.0  \n",
       "17                          NaN            NaN          0.0  "
      ]
     },
     "execution_count": 7,
     "metadata": {},
     "output_type": "execute_result"
    }
   ],
   "source": [
    "df = pd.DataFrame({\n",
    "    'Stage': stage_list,\n",
    "    'start_date': start_dates,\n",
    "    'end_date': end_dates,\n",
    "    'starting_hour': starting_hour,\n",
    "    'estimated_hours_to_complete': new_suggested_end_hours,\n",
    "    'true_end_hour': true_end_hours,\n",
    "    'hours_spent': hours_spent,    \n",
    "})\n",
    "df"
   ]
  },
  {
   "cell_type": "code",
   "execution_count": 8,
   "metadata": {},
   "outputs": [
    {
     "data": {
      "text/html": [
       "<div>\n",
       "<style scoped>\n",
       "    .dataframe tbody tr th:only-of-type {\n",
       "        vertical-align: middle;\n",
       "    }\n",
       "\n",
       "    .dataframe tbody tr th {\n",
       "        vertical-align: top;\n",
       "    }\n",
       "\n",
       "    .dataframe thead th {\n",
       "        text-align: right;\n",
       "    }\n",
       "</style>\n",
       "<table border=\"1\" class=\"dataframe\">\n",
       "  <thead>\n",
       "    <tr style=\"text-align: right;\">\n",
       "      <th></th>\n",
       "      <th>Stage</th>\n",
       "      <th>start_date</th>\n",
       "      <th>end_date</th>\n",
       "      <th>starting_hour</th>\n",
       "      <th>estimated_hours_to_complete</th>\n",
       "      <th>true_end_hour</th>\n",
       "      <th>hours_spent</th>\n",
       "      <th>exceeded_hours</th>\n",
       "      <th>finished_early_hours</th>\n",
       "    </tr>\n",
       "  </thead>\n",
       "  <tbody>\n",
       "    <tr>\n",
       "      <th>0</th>\n",
       "      <td>Metadata</td>\n",
       "      <td>18/05/2023</td>\n",
       "      <td>18/05/2023</td>\n",
       "      <td>0.0</td>\n",
       "      <td>4.0</td>\n",
       "      <td>6.0</td>\n",
       "      <td>6.0</td>\n",
       "      <td>2.0</td>\n",
       "      <td>0.0</td>\n",
       "    </tr>\n",
       "    <tr>\n",
       "      <th>1</th>\n",
       "      <td>Initial_Processing</td>\n",
       "      <td>18/05/2023</td>\n",
       "      <td>18/05/2023</td>\n",
       "      <td>6.0</td>\n",
       "      <td>9.0</td>\n",
       "      <td>5.0</td>\n",
       "      <td>-1.0</td>\n",
       "      <td>0.0</td>\n",
       "      <td>4.0</td>\n",
       "    </tr>\n",
       "    <tr>\n",
       "      <th>2</th>\n",
       "      <td>Initial_Exploration</td>\n",
       "      <td>18/05/2023</td>\n",
       "      <td>18/05/2023</td>\n",
       "      <td>5.0</td>\n",
       "      <td>22.0</td>\n",
       "      <td>22.0</td>\n",
       "      <td>17.0</td>\n",
       "      <td>0.0</td>\n",
       "      <td>0.0</td>\n",
       "    </tr>\n",
       "    <tr>\n",
       "      <th>3</th>\n",
       "      <td>Preprocessing</td>\n",
       "      <td>19/05/2023</td>\n",
       "      <td>19/05/2023</td>\n",
       "      <td>22.0</td>\n",
       "      <td>41.0</td>\n",
       "      <td>40.0</td>\n",
       "      <td>18.0</td>\n",
       "      <td>0.0</td>\n",
       "      <td>1.0</td>\n",
       "    </tr>\n",
       "    <tr>\n",
       "      <th>4</th>\n",
       "      <td>Feature_Engineering</td>\n",
       "      <td>19/05/2023</td>\n",
       "      <td>19/05/2023</td>\n",
       "      <td>40.0</td>\n",
       "      <td>45.0</td>\n",
       "      <td>47.0</td>\n",
       "      <td>7.0</td>\n",
       "      <td>2.0</td>\n",
       "      <td>0.0</td>\n",
       "    </tr>\n",
       "    <tr>\n",
       "      <th>5</th>\n",
       "      <td>Data_Validation</td>\n",
       "      <td>19/05/2023</td>\n",
       "      <td>19/05/2023</td>\n",
       "      <td>47.0</td>\n",
       "      <td>51.0</td>\n",
       "      <td>53.0</td>\n",
       "      <td>6.0</td>\n",
       "      <td>2.0</td>\n",
       "      <td>0.0</td>\n",
       "    </tr>\n",
       "    <tr>\n",
       "      <th>6</th>\n",
       "      <td>Model_Selection</td>\n",
       "      <td>20/05/2023</td>\n",
       "      <td>20/05/2023</td>\n",
       "      <td>53.0</td>\n",
       "      <td>57.0</td>\n",
       "      <td>55.0</td>\n",
       "      <td>2.0</td>\n",
       "      <td>0.0</td>\n",
       "      <td>2.0</td>\n",
       "    </tr>\n",
       "    <tr>\n",
       "      <th>7</th>\n",
       "      <td>Model_Training</td>\n",
       "      <td>20/05/2023</td>\n",
       "      <td>20/05/2023</td>\n",
       "      <td>55.0</td>\n",
       "      <td>71.0</td>\n",
       "      <td>72.0</td>\n",
       "      <td>17.0</td>\n",
       "      <td>1.0</td>\n",
       "      <td>0.0</td>\n",
       "    </tr>\n",
       "    <tr>\n",
       "      <th>8</th>\n",
       "      <td>Model_Validation</td>\n",
       "      <td>20/05/2023</td>\n",
       "      <td>20/05/2023</td>\n",
       "      <td>72.0</td>\n",
       "      <td>80.0</td>\n",
       "      <td>78.0</td>\n",
       "      <td>6.0</td>\n",
       "      <td>0.0</td>\n",
       "      <td>2.0</td>\n",
       "    </tr>\n",
       "    <tr>\n",
       "      <th>9</th>\n",
       "      <td>Hyperparameter_Tuning</td>\n",
       "      <td>21/05/2023</td>\n",
       "      <td>21/05/2023</td>\n",
       "      <td>78.0</td>\n",
       "      <td>82.0</td>\n",
       "      <td>84.0</td>\n",
       "      <td>6.0</td>\n",
       "      <td>2.0</td>\n",
       "      <td>0.0</td>\n",
       "    </tr>\n",
       "    <tr>\n",
       "      <th>10</th>\n",
       "      <td>Model_Evaluation</td>\n",
       "      <td>21/05/2023</td>\n",
       "      <td>21/05/2023</td>\n",
       "      <td>84.0</td>\n",
       "      <td>96.0</td>\n",
       "      <td>99.0</td>\n",
       "      <td>15.0</td>\n",
       "      <td>3.0</td>\n",
       "      <td>0.0</td>\n",
       "    </tr>\n",
       "    <tr>\n",
       "      <th>11</th>\n",
       "      <td>Model_Deployment</td>\n",
       "      <td>21/05/2023</td>\n",
       "      <td>21/05/2023</td>\n",
       "      <td>99.0</td>\n",
       "      <td>103.0</td>\n",
       "      <td>99.0</td>\n",
       "      <td>0.0</td>\n",
       "      <td>0.0</td>\n",
       "      <td>4.0</td>\n",
       "    </tr>\n",
       "    <tr>\n",
       "      <th>12</th>\n",
       "      <td>Model_Optimization</td>\n",
       "      <td>22/05/2023</td>\n",
       "      <td>22/05/2023</td>\n",
       "      <td>99.0</td>\n",
       "      <td>103.0</td>\n",
       "      <td>102.0</td>\n",
       "      <td>3.0</td>\n",
       "      <td>0.0</td>\n",
       "      <td>1.0</td>\n",
       "    </tr>\n",
       "    <tr>\n",
       "      <th>13</th>\n",
       "      <td>Maintenance</td>\n",
       "      <td>22/05/2023</td>\n",
       "      <td>22/05/2023</td>\n",
       "      <td>102.0</td>\n",
       "      <td>106.0</td>\n",
       "      <td>106.0</td>\n",
       "      <td>4.0</td>\n",
       "      <td>0.0</td>\n",
       "      <td>0.0</td>\n",
       "    </tr>\n",
       "    <tr>\n",
       "      <th>14</th>\n",
       "      <td>Review</td>\n",
       "      <td>22/05/2023</td>\n",
       "      <td>22/05/2023</td>\n",
       "      <td>106.0</td>\n",
       "      <td>110.0</td>\n",
       "      <td>112.0</td>\n",
       "      <td>6.0</td>\n",
       "      <td>2.0</td>\n",
       "      <td>0.0</td>\n",
       "    </tr>\n",
       "    <tr>\n",
       "      <th>15</th>\n",
       "      <td>Pipeline_Maintenance</td>\n",
       "      <td>22/05/2023</td>\n",
       "      <td>22/05/2023</td>\n",
       "      <td>112.0</td>\n",
       "      <td>116.0</td>\n",
       "      <td>115.0</td>\n",
       "      <td>3.0</td>\n",
       "      <td>0.0</td>\n",
       "      <td>1.0</td>\n",
       "    </tr>\n",
       "    <tr>\n",
       "      <th>16</th>\n",
       "      <td>General_Maintenance</td>\n",
       "      <td>22/05/2023</td>\n",
       "      <td>22/05/2023</td>\n",
       "      <td>115.0</td>\n",
       "      <td>119.0</td>\n",
       "      <td>119.0</td>\n",
       "      <td>4.0</td>\n",
       "      <td>0.0</td>\n",
       "      <td>0.0</td>\n",
       "    </tr>\n",
       "    <tr>\n",
       "      <th>17</th>\n",
       "      <td>Misc</td>\n",
       "      <td>22/05/2023</td>\n",
       "      <td>22/05/2023</td>\n",
       "      <td>119.0</td>\n",
       "      <td>NaN</td>\n",
       "      <td>NaN</td>\n",
       "      <td>0.0</td>\n",
       "      <td>0.0</td>\n",
       "      <td>0.0</td>\n",
       "    </tr>\n",
       "  </tbody>\n",
       "</table>\n",
       "</div>"
      ],
      "text/plain": [
       "                    Stage  start_date    end_date  starting_hour   \n",
       "0                Metadata  18/05/2023  18/05/2023            0.0  \\\n",
       "1      Initial_Processing  18/05/2023  18/05/2023            6.0   \n",
       "2     Initial_Exploration  18/05/2023  18/05/2023            5.0   \n",
       "3           Preprocessing  19/05/2023  19/05/2023           22.0   \n",
       "4     Feature_Engineering  19/05/2023  19/05/2023           40.0   \n",
       "5         Data_Validation  19/05/2023  19/05/2023           47.0   \n",
       "6         Model_Selection  20/05/2023  20/05/2023           53.0   \n",
       "7          Model_Training  20/05/2023  20/05/2023           55.0   \n",
       "8        Model_Validation  20/05/2023  20/05/2023           72.0   \n",
       "9   Hyperparameter_Tuning  21/05/2023  21/05/2023           78.0   \n",
       "10       Model_Evaluation  21/05/2023  21/05/2023           84.0   \n",
       "11       Model_Deployment  21/05/2023  21/05/2023           99.0   \n",
       "12     Model_Optimization  22/05/2023  22/05/2023           99.0   \n",
       "13            Maintenance  22/05/2023  22/05/2023          102.0   \n",
       "14                 Review  22/05/2023  22/05/2023          106.0   \n",
       "15   Pipeline_Maintenance  22/05/2023  22/05/2023          112.0   \n",
       "16    General_Maintenance  22/05/2023  22/05/2023          115.0   \n",
       "17                   Misc  22/05/2023  22/05/2023          119.0   \n",
       "\n",
       "    estimated_hours_to_complete  true_end_hour  hours_spent  exceeded_hours   \n",
       "0                           4.0            6.0          6.0             2.0  \\\n",
       "1                           9.0            5.0         -1.0             0.0   \n",
       "2                          22.0           22.0         17.0             0.0   \n",
       "3                          41.0           40.0         18.0             0.0   \n",
       "4                          45.0           47.0          7.0             2.0   \n",
       "5                          51.0           53.0          6.0             2.0   \n",
       "6                          57.0           55.0          2.0             0.0   \n",
       "7                          71.0           72.0         17.0             1.0   \n",
       "8                          80.0           78.0          6.0             0.0   \n",
       "9                          82.0           84.0          6.0             2.0   \n",
       "10                         96.0           99.0         15.0             3.0   \n",
       "11                        103.0           99.0          0.0             0.0   \n",
       "12                        103.0          102.0          3.0             0.0   \n",
       "13                        106.0          106.0          4.0             0.0   \n",
       "14                        110.0          112.0          6.0             2.0   \n",
       "15                        116.0          115.0          3.0             0.0   \n",
       "16                        119.0          119.0          4.0             0.0   \n",
       "17                          NaN            NaN          0.0             0.0   \n",
       "\n",
       "    finished_early_hours  \n",
       "0                    0.0  \n",
       "1                    4.0  \n",
       "2                    0.0  \n",
       "3                    1.0  \n",
       "4                    0.0  \n",
       "5                    0.0  \n",
       "6                    2.0  \n",
       "7                    0.0  \n",
       "8                    2.0  \n",
       "9                    0.0  \n",
       "10                   0.0  \n",
       "11                   4.0  \n",
       "12                   1.0  \n",
       "13                   0.0  \n",
       "14                   0.0  \n",
       "15                   1.0  \n",
       "16                   0.0  \n",
       "17                   0.0  "
      ]
     },
     "execution_count": 8,
     "metadata": {},
     "output_type": "execute_result"
    }
   ],
   "source": [
    "df['exceeded_hours'] = np.where(df['true_end_hour'] > df['estimated_hours_to_complete'], df['true_end_hour'] - df['estimated_hours_to_complete'], 0)\n",
    "df['finished_early_hours'] = np.where(df['true_end_hour'] < df['estimated_hours_to_complete'], df['estimated_hours_to_complete'] - df['true_end_hour'], 0)\n",
    "df"
   ]
  },
  {
   "cell_type": "code",
   "execution_count": 9,
   "metadata": {},
   "outputs": [],
   "source": [
    "fig = px.colors.qualitative.swatches()\n",
    "\n",
    "color = px.colors.qualitative.Pastel1[0]\n",
    "\n",
    "fig.update_layout(\n",
    "    plot_bgcolor=color,  # Set the background color using the color value\n",
    ")\n",
    "\n",
    "fig.show()\n"
   ]
  },
  {
   "cell_type": "code",
   "execution_count": null,
   "metadata": {},
   "outputs": [],
   "source": [
    "axis_label_color = 'black'\n",
    "bar_color = px.colors.qualitative.Pastel[10]\n",
    "\n",
    "grid_color = axis_label_color\n",
    "\n",
    "graph_color = px.colors.qualitative.Dark2[7]\n",
    "bg_color = px.colors.qualitative.Dark2[7]\n",
    "\n",
    "\n",
    "\n"
   ]
  },
  {
   "cell_type": "code",
   "execution_count": null,
   "metadata": {},
   "outputs": [
    {
     "data": {
      "application/vnd.plotly.v1+json": {
       "config": {
        "plotlyServerURL": "https://plot.ly"
       },
       "data": [
        {
         "base": [
          0,
          4,
          5,
          27,
          43,
          47,
          49,
          57,
          72,
          81,
          87,
          98,
          102,
          106,
          106,
          113,
          115,
          119
         ],
         "marker": {
          "color": "rgb(179, 179, 179)"
         },
         "name": "Hours Spent",
         "orientation": "h",
         "type": "bar",
         "x": [
          4,
          1,
          22,
          16,
          4,
          2,
          8,
          15,
          9,
          6,
          11,
          4,
          4,
          0,
          7,
          2,
          4,
          0
         ],
         "y": [
          "Metadata",
          "Initial_Processing",
          "Initial_Exploration",
          "Preprocessing",
          "Feature_Engineering",
          "Data_Validation",
          "Model_Selection",
          "Model_Training",
          "Model_Validation",
          "Hyperparameter_Tuning",
          "Model_Evaluation",
          "Model_Deployment",
          "Model_Optimization",
          "Maintenance",
          "Review",
          "Pipeline_Maintenance",
          "General_Maintenance",
          "Misc"
         ]
        },
        {
         "base": [
          4,
          7,
          22,
          46,
          48,
          51,
          53,
          73,
          80,
          85,
          99,
          102,
          106,
          110,
          110,
          117,
          119,
          null
         ],
         "marker": {
          "color": "red",
          "opacity": 0.5
         },
         "name": "Exceeded Hours",
         "orientation": "h",
         "type": "bar",
         "x": [
          0,
          0,
          5,
          0,
          0,
          0,
          4,
          0,
          1,
          2,
          0,
          0,
          0,
          0,
          3,
          0,
          0,
          0
         ],
         "y": [
          "Metadata",
          "Initial_Processing",
          "Initial_Exploration",
          "Preprocessing",
          "Feature_Engineering",
          "Data_Validation",
          "Model_Selection",
          "Model_Training",
          "Model_Validation",
          "Hyperparameter_Tuning",
          "Model_Evaluation",
          "Model_Deployment",
          "Model_Optimization",
          "Maintenance",
          "Review",
          "Pipeline_Maintenance",
          "General_Maintenance",
          "Misc"
         ]
        },
        {
         "base": [
          4,
          5,
          27,
          43,
          47,
          49,
          57,
          72,
          81,
          87,
          98,
          102,
          106,
          106,
          113,
          115,
          119,
          null
         ],
         "marker": {
          "color": "green",
          "opacity": 0.5
         },
         "name": "Finished Early",
         "orientation": "h",
         "type": "bar",
         "x": [
          0,
          2,
          0,
          3,
          1,
          2,
          0,
          1,
          0,
          0,
          1,
          0,
          0,
          4,
          0,
          2,
          0,
          0
         ],
         "y": [
          "Metadata",
          "Initial_Processing",
          "Initial_Exploration",
          "Preprocessing",
          "Feature_Engineering",
          "Data_Validation",
          "Model_Selection",
          "Model_Training",
          "Model_Validation",
          "Hyperparameter_Tuning",
          "Model_Evaluation",
          "Model_Deployment",
          "Model_Optimization",
          "Maintenance",
          "Review",
          "Pipeline_Maintenance",
          "General_Maintenance",
          "Misc"
         ]
        }
       ],
       "layout": {
        "barmode": "stack",
        "height": 800,
        "hovermode": "closest",
        "margin": {
         "b": 20,
         "l": 20,
         "r": 20,
         "t": 40
        },
        "paper_bgcolor": "rgb(102,102,102)",
        "plot_bgcolor": "rgb(102,102,102)",
        "shapes": [
         {
          "line": {
           "color": "black",
           "width": 2
          },
          "type": "rect",
          "x0": 0,
          "x1": 1,
          "xref": "paper",
          "y0": 0,
          "y1": 1,
          "yref": "paper"
         }
        ],
        "showlegend": false,
        "template": {
         "data": {
          "bar": [
           {
            "error_x": {
             "color": "#2a3f5f"
            },
            "error_y": {
             "color": "#2a3f5f"
            },
            "marker": {
             "line": {
              "color": "#E5ECF6",
              "width": 0.5
             }
            },
            "type": "bar"
           }
          ],
          "barpolar": [
           {
            "marker": {
             "line": {
              "color": "#E5ECF6",
              "width": 0.5
             }
            },
            "type": "barpolar"
           }
          ],
          "carpet": [
           {
            "aaxis": {
             "endlinecolor": "#2a3f5f",
             "gridcolor": "white",
             "linecolor": "white",
             "minorgridcolor": "white",
             "startlinecolor": "#2a3f5f"
            },
            "baxis": {
             "endlinecolor": "#2a3f5f",
             "gridcolor": "white",
             "linecolor": "white",
             "minorgridcolor": "white",
             "startlinecolor": "#2a3f5f"
            },
            "type": "carpet"
           }
          ],
          "choropleth": [
           {
            "colorbar": {
             "outlinewidth": 0,
             "ticks": ""
            },
            "type": "choropleth"
           }
          ],
          "contour": [
           {
            "colorbar": {
             "outlinewidth": 0,
             "ticks": ""
            },
            "colorscale": [
             [
              0,
              "#0d0887"
             ],
             [
              0.1111111111111111,
              "#46039f"
             ],
             [
              0.2222222222222222,
              "#7201a8"
             ],
             [
              0.3333333333333333,
              "#9c179e"
             ],
             [
              0.4444444444444444,
              "#bd3786"
             ],
             [
              0.5555555555555556,
              "#d8576b"
             ],
             [
              0.6666666666666666,
              "#ed7953"
             ],
             [
              0.7777777777777778,
              "#fb9f3a"
             ],
             [
              0.8888888888888888,
              "#fdca26"
             ],
             [
              1,
              "#f0f921"
             ]
            ],
            "type": "contour"
           }
          ],
          "contourcarpet": [
           {
            "colorbar": {
             "outlinewidth": 0,
             "ticks": ""
            },
            "type": "contourcarpet"
           }
          ],
          "heatmap": [
           {
            "colorbar": {
             "outlinewidth": 0,
             "ticks": ""
            },
            "colorscale": [
             [
              0,
              "#0d0887"
             ],
             [
              0.1111111111111111,
              "#46039f"
             ],
             [
              0.2222222222222222,
              "#7201a8"
             ],
             [
              0.3333333333333333,
              "#9c179e"
             ],
             [
              0.4444444444444444,
              "#bd3786"
             ],
             [
              0.5555555555555556,
              "#d8576b"
             ],
             [
              0.6666666666666666,
              "#ed7953"
             ],
             [
              0.7777777777777778,
              "#fb9f3a"
             ],
             [
              0.8888888888888888,
              "#fdca26"
             ],
             [
              1,
              "#f0f921"
             ]
            ],
            "type": "heatmap"
           }
          ],
          "heatmapgl": [
           {
            "colorbar": {
             "outlinewidth": 0,
             "ticks": ""
            },
            "colorscale": [
             [
              0,
              "#0d0887"
             ],
             [
              0.1111111111111111,
              "#46039f"
             ],
             [
              0.2222222222222222,
              "#7201a8"
             ],
             [
              0.3333333333333333,
              "#9c179e"
             ],
             [
              0.4444444444444444,
              "#bd3786"
             ],
             [
              0.5555555555555556,
              "#d8576b"
             ],
             [
              0.6666666666666666,
              "#ed7953"
             ],
             [
              0.7777777777777778,
              "#fb9f3a"
             ],
             [
              0.8888888888888888,
              "#fdca26"
             ],
             [
              1,
              "#f0f921"
             ]
            ],
            "type": "heatmapgl"
           }
          ],
          "histogram": [
           {
            "marker": {
             "colorbar": {
              "outlinewidth": 0,
              "ticks": ""
             }
            },
            "type": "histogram"
           }
          ],
          "histogram2d": [
           {
            "colorbar": {
             "outlinewidth": 0,
             "ticks": ""
            },
            "colorscale": [
             [
              0,
              "#0d0887"
             ],
             [
              0.1111111111111111,
              "#46039f"
             ],
             [
              0.2222222222222222,
              "#7201a8"
             ],
             [
              0.3333333333333333,
              "#9c179e"
             ],
             [
              0.4444444444444444,
              "#bd3786"
             ],
             [
              0.5555555555555556,
              "#d8576b"
             ],
             [
              0.6666666666666666,
              "#ed7953"
             ],
             [
              0.7777777777777778,
              "#fb9f3a"
             ],
             [
              0.8888888888888888,
              "#fdca26"
             ],
             [
              1,
              "#f0f921"
             ]
            ],
            "type": "histogram2d"
           }
          ],
          "histogram2dcontour": [
           {
            "colorbar": {
             "outlinewidth": 0,
             "ticks": ""
            },
            "colorscale": [
             [
              0,
              "#0d0887"
             ],
             [
              0.1111111111111111,
              "#46039f"
             ],
             [
              0.2222222222222222,
              "#7201a8"
             ],
             [
              0.3333333333333333,
              "#9c179e"
             ],
             [
              0.4444444444444444,
              "#bd3786"
             ],
             [
              0.5555555555555556,
              "#d8576b"
             ],
             [
              0.6666666666666666,
              "#ed7953"
             ],
             [
              0.7777777777777778,
              "#fb9f3a"
             ],
             [
              0.8888888888888888,
              "#fdca26"
             ],
             [
              1,
              "#f0f921"
             ]
            ],
            "type": "histogram2dcontour"
           }
          ],
          "mesh3d": [
           {
            "colorbar": {
             "outlinewidth": 0,
             "ticks": ""
            },
            "type": "mesh3d"
           }
          ],
          "parcoords": [
           {
            "line": {
             "colorbar": {
              "outlinewidth": 0,
              "ticks": ""
             }
            },
            "type": "parcoords"
           }
          ],
          "pie": [
           {
            "automargin": true,
            "type": "pie"
           }
          ],
          "scatter": [
           {
            "marker": {
             "colorbar": {
              "outlinewidth": 0,
              "ticks": ""
             }
            },
            "type": "scatter"
           }
          ],
          "scatter3d": [
           {
            "line": {
             "colorbar": {
              "outlinewidth": 0,
              "ticks": ""
             }
            },
            "marker": {
             "colorbar": {
              "outlinewidth": 0,
              "ticks": ""
             }
            },
            "type": "scatter3d"
           }
          ],
          "scattercarpet": [
           {
            "marker": {
             "colorbar": {
              "outlinewidth": 0,
              "ticks": ""
             }
            },
            "type": "scattercarpet"
           }
          ],
          "scattergeo": [
           {
            "marker": {
             "colorbar": {
              "outlinewidth": 0,
              "ticks": ""
             }
            },
            "type": "scattergeo"
           }
          ],
          "scattergl": [
           {
            "marker": {
             "colorbar": {
              "outlinewidth": 0,
              "ticks": ""
             }
            },
            "type": "scattergl"
           }
          ],
          "scattermapbox": [
           {
            "marker": {
             "colorbar": {
              "outlinewidth": 0,
              "ticks": ""
             }
            },
            "type": "scattermapbox"
           }
          ],
          "scatterpolar": [
           {
            "marker": {
             "colorbar": {
              "outlinewidth": 0,
              "ticks": ""
             }
            },
            "type": "scatterpolar"
           }
          ],
          "scatterpolargl": [
           {
            "marker": {
             "colorbar": {
              "outlinewidth": 0,
              "ticks": ""
             }
            },
            "type": "scatterpolargl"
           }
          ],
          "scatterternary": [
           {
            "marker": {
             "colorbar": {
              "outlinewidth": 0,
              "ticks": ""
             }
            },
            "type": "scatterternary"
           }
          ],
          "surface": [
           {
            "colorbar": {
             "outlinewidth": 0,
             "ticks": ""
            },
            "colorscale": [
             [
              0,
              "#0d0887"
             ],
             [
              0.1111111111111111,
              "#46039f"
             ],
             [
              0.2222222222222222,
              "#7201a8"
             ],
             [
              0.3333333333333333,
              "#9c179e"
             ],
             [
              0.4444444444444444,
              "#bd3786"
             ],
             [
              0.5555555555555556,
              "#d8576b"
             ],
             [
              0.6666666666666666,
              "#ed7953"
             ],
             [
              0.7777777777777778,
              "#fb9f3a"
             ],
             [
              0.8888888888888888,
              "#fdca26"
             ],
             [
              1,
              "#f0f921"
             ]
            ],
            "type": "surface"
           }
          ],
          "table": [
           {
            "cells": {
             "fill": {
              "color": "#EBF0F8"
             },
             "line": {
              "color": "white"
             }
            },
            "header": {
             "fill": {
              "color": "#C8D4E3"
             },
             "line": {
              "color": "white"
             }
            },
            "type": "table"
           }
          ]
         },
         "layout": {
          "annotationdefaults": {
           "arrowcolor": "#2a3f5f",
           "arrowhead": 0,
           "arrowwidth": 1
          },
          "autotypenumbers": "strict",
          "coloraxis": {
           "colorbar": {
            "outlinewidth": 0,
            "ticks": ""
           }
          },
          "colorscale": {
           "diverging": [
            [
             0,
             "#8e0152"
            ],
            [
             0.1,
             "#c51b7d"
            ],
            [
             0.2,
             "#de77ae"
            ],
            [
             0.3,
             "#f1b6da"
            ],
            [
             0.4,
             "#fde0ef"
            ],
            [
             0.5,
             "#f7f7f7"
            ],
            [
             0.6,
             "#e6f5d0"
            ],
            [
             0.7,
             "#b8e186"
            ],
            [
             0.8,
             "#7fbc41"
            ],
            [
             0.9,
             "#4d9221"
            ],
            [
             1,
             "#276419"
            ]
           ],
           "sequential": [
            [
             0,
             "#0d0887"
            ],
            [
             0.1111111111111111,
             "#46039f"
            ],
            [
             0.2222222222222222,
             "#7201a8"
            ],
            [
             0.3333333333333333,
             "#9c179e"
            ],
            [
             0.4444444444444444,
             "#bd3786"
            ],
            [
             0.5555555555555556,
             "#d8576b"
            ],
            [
             0.6666666666666666,
             "#ed7953"
            ],
            [
             0.7777777777777778,
             "#fb9f3a"
            ],
            [
             0.8888888888888888,
             "#fdca26"
            ],
            [
             1,
             "#f0f921"
            ]
           ],
           "sequentialminus": [
            [
             0,
             "#0d0887"
            ],
            [
             0.1111111111111111,
             "#46039f"
            ],
            [
             0.2222222222222222,
             "#7201a8"
            ],
            [
             0.3333333333333333,
             "#9c179e"
            ],
            [
             0.4444444444444444,
             "#bd3786"
            ],
            [
             0.5555555555555556,
             "#d8576b"
            ],
            [
             0.6666666666666666,
             "#ed7953"
            ],
            [
             0.7777777777777778,
             "#fb9f3a"
            ],
            [
             0.8888888888888888,
             "#fdca26"
            ],
            [
             1,
             "#f0f921"
            ]
           ]
          },
          "colorway": [
           "#636efa",
           "#EF553B",
           "#00cc96",
           "#ab63fa",
           "#FFA15A",
           "#19d3f3",
           "#FF6692",
           "#B6E880",
           "#FF97FF",
           "#FECB52"
          ],
          "font": {
           "color": "#2a3f5f"
          },
          "geo": {
           "bgcolor": "white",
           "lakecolor": "white",
           "landcolor": "#E5ECF6",
           "showlakes": true,
           "showland": true,
           "subunitcolor": "white"
          },
          "hoverlabel": {
           "align": "left"
          },
          "hovermode": "closest",
          "mapbox": {
           "style": "light"
          },
          "paper_bgcolor": "white",
          "plot_bgcolor": "#E5ECF6",
          "polar": {
           "angularaxis": {
            "gridcolor": "white",
            "linecolor": "white",
            "ticks": ""
           },
           "bgcolor": "#E5ECF6",
           "radialaxis": {
            "gridcolor": "white",
            "linecolor": "white",
            "ticks": ""
           }
          },
          "scene": {
           "xaxis": {
            "backgroundcolor": "#E5ECF6",
            "gridcolor": "white",
            "gridwidth": 2,
            "linecolor": "white",
            "showbackground": true,
            "ticks": "",
            "zerolinecolor": "white"
           },
           "yaxis": {
            "backgroundcolor": "#E5ECF6",
            "gridcolor": "white",
            "gridwidth": 2,
            "linecolor": "white",
            "showbackground": true,
            "ticks": "",
            "zerolinecolor": "white"
           },
           "zaxis": {
            "backgroundcolor": "#E5ECF6",
            "gridcolor": "white",
            "gridwidth": 2,
            "linecolor": "white",
            "showbackground": true,
            "ticks": "",
            "zerolinecolor": "white"
           }
          },
          "shapedefaults": {
           "line": {
            "color": "#2a3f5f"
           }
          },
          "ternary": {
           "aaxis": {
            "gridcolor": "white",
            "linecolor": "white",
            "ticks": ""
           },
           "baxis": {
            "gridcolor": "white",
            "linecolor": "white",
            "ticks": ""
           },
           "bgcolor": "#E5ECF6",
           "caxis": {
            "gridcolor": "white",
            "linecolor": "white",
            "ticks": ""
           }
          },
          "title": {
           "x": 0.05
          },
          "xaxis": {
           "automargin": true,
           "gridcolor": "white",
           "linecolor": "white",
           "ticks": "",
           "title": {
            "standoff": 15
           },
           "zerolinecolor": "white",
           "zerolinewidth": 2
          },
          "yaxis": {
           "automargin": true,
           "gridcolor": "white",
           "linecolor": "white",
           "ticks": "",
           "title": {
            "standoff": 15
           },
           "zerolinecolor": "white",
           "zerolinewidth": 2
          }
         }
        },
        "title": {
         "font": {
          "color": "black",
          "size": 24
         },
         "text": "Gantt Chart"
        },
        "xaxis": {
         "dtick": 3,
         "gridcolor": "black",
         "linecolor": "black",
         "linewidth": 1,
         "showgrid": true,
         "showline": true,
         "tickfont": {
          "color": "black"
         },
         "tickmode": "linear",
         "title": {
          "font": {
           "color": "black"
          },
          "text": "Project Hours"
         }
        },
        "yaxis": {
         "linecolor": "grey",
         "linewidth": 1,
         "showgrid": false,
         "showline": true,
         "tickfont": {
          "color": "black"
         },
         "title": {
          "font": {
           "color": "black"
          },
          "text": "Stage"
         }
        }
       }
      }
     },
     "metadata": {},
     "output_type": "display_data"
    }
   ],
   "source": [
    "fig = go.Figure()\n",
    "\n",
    "fig.add_trace(go.Bar(\n",
    "    y=df['Stage'],\n",
    "    x=df['hours_spent'],\n",
    "    base=df['starting_hour'],\n",
    "    orientation='h',\n",
    "    marker=dict(\n",
    "        color=bar_color\n",
    "    ),\n",
    "    name='Hours Spent'\n",
    "))\n",
    "\n",
    "fig.add_trace(go.Bar(\n",
    "    y=df['Stage'],\n",
    "    x=df['exceeded_hours'],\n",
    "    base=df['estimated_hours_to_complete'],\n",
    "    orientation='h',\n",
    "    marker=dict(\n",
    "        color='red',\n",
    "        opacity=0.5\n",
    "    ),\n",
    "    name='Exceeded Hours'\n",
    "))\n",
    "\n",
    "fig.add_trace(go.Bar(\n",
    "    y=df['Stage'],\n",
    "    x=df['finished_early_hours'],\n",
    "    base=df['true_end_hour'],\n",
    "    orientation='h',\n",
    "    marker=dict(\n",
    "        color='green',\n",
    "        opacity=0.5\n",
    "    ),\n",
    "    name='Finished Early'\n",
    "))\n",
    "\n",
    "\n",
    "\n",
    "fig.update_layout(\n",
    "    barmode='stack',\n",
    "    title={\n",
    "        'text':'Gantt Chart',\n",
    "        'font':{\n",
    "            'size':24,\n",
    "            'color':axis_label_color,\n",
    "            # 'bold': True,\n",
    "        },\n",
    "        },\n",
    "    xaxis_title='Project Hours',\n",
    "    yaxis_title='Stage',\n",
    "    xaxis=dict(\n",
    "        showgrid=True,  # Add grid lines on the x-axis\n",
    "        tickmode='linear',  # Use linear tick mode\n",
    "        dtick=3,  # Set the tick interval to 3\n",
    "        gridcolor=grid_color,  # Set the color of the grid lines\n",
    "        showline=True,  # Show x-axis line\n",
    "        linewidth=1,  # Set x-axis line width\n",
    "        linecolor=grid_color,  # Set x-axis line color\n",
    "        title=dict(\n",
    "            font=dict(color=axis_label_color)  # Set the x-axis label text color to white\n",
    "        ),\n",
    "        tickfont=dict(color=axis_label_color)  # Set the x-axis tick labels color to white\n",
    "    ),\n",
    "    yaxis=dict(\n",
    "        showgrid=False,  # Remove grid lines on the y-axis\n",
    "        showline=True,  # Show y-axis line\n",
    "        linewidth=1,  # Set y-axis line width\n",
    "        linecolor='grey',  # Set y-axis line color\n",
    "        title=dict(\n",
    "            font=dict(color=axis_label_color)  # Set the y-axis label text color to white\n",
    "        ),\n",
    "        tickfont=dict(color=axis_label_color)  # Set the y-axis tick labels color to white\n",
    "    ),\n",
    "    height=800,  # Set the plot height to 600 pixels\n",
    "    plot_bgcolor=graph_color,  # Set the background color\n",
    "    paper_bgcolor=bg_color,  # Set the paper background color\n",
    "    showlegend=False,  # Hide legend\n",
    "    margin=dict(l=20, r=20, t=40, b=20),  # Set margin\n",
    "    hovermode='closest',  # Set hover mode\n",
    "    shapes=[\n",
    "        dict(\n",
    "            type='rect',\n",
    "            xref='paper',\n",
    "            yref='paper',\n",
    "            x0=0,\n",
    "            y0=0,\n",
    "            x1=1,\n",
    "            y1=1,\n",
    "            line=dict(\n",
    "                color=grid_color,\n",
    "                width=2\n",
    "            )\n",
    "        )\n",
    "    ]\n",
    ")\n",
    "\n",
    "fig.show()"
   ]
  },
  {
   "cell_type": "code",
   "execution_count": null,
   "metadata": {},
   "outputs": [
    {
     "data": {
      "text/html": [
       "<div>\n",
       "<style scoped>\n",
       "    .dataframe tbody tr th:only-of-type {\n",
       "        vertical-align: middle;\n",
       "    }\n",
       "\n",
       "    .dataframe tbody tr th {\n",
       "        vertical-align: top;\n",
       "    }\n",
       "\n",
       "    .dataframe thead th {\n",
       "        text-align: right;\n",
       "    }\n",
       "</style>\n",
       "<table border=\"1\" class=\"dataframe\">\n",
       "  <thead>\n",
       "    <tr style=\"text-align: right;\">\n",
       "      <th></th>\n",
       "      <th>Stage</th>\n",
       "      <th>start_date</th>\n",
       "      <th>end_date</th>\n",
       "      <th>starting_hour</th>\n",
       "      <th>estimated_hours_to_complete</th>\n",
       "      <th>true_end_hour</th>\n",
       "      <th>hours_spent</th>\n",
       "      <th>exceeded_hours</th>\n",
       "      <th>finished_early_hours</th>\n",
       "    </tr>\n",
       "  </thead>\n",
       "  <tbody>\n",
       "    <tr>\n",
       "      <th>0</th>\n",
       "      <td>Metadata</td>\n",
       "      <td>18/05/2023</td>\n",
       "      <td>18/05/2023</td>\n",
       "      <td>0.0</td>\n",
       "      <td>4.0</td>\n",
       "      <td>4.0</td>\n",
       "      <td>4.0</td>\n",
       "      <td>0.0</td>\n",
       "      <td>0.0</td>\n",
       "    </tr>\n",
       "    <tr>\n",
       "      <th>1</th>\n",
       "      <td>Initial_Processing</td>\n",
       "      <td>18/05/2023</td>\n",
       "      <td>18/05/2023</td>\n",
       "      <td>4.0</td>\n",
       "      <td>7.0</td>\n",
       "      <td>5.0</td>\n",
       "      <td>1.0</td>\n",
       "      <td>0.0</td>\n",
       "      <td>2.0</td>\n",
       "    </tr>\n",
       "    <tr>\n",
       "      <th>2</th>\n",
       "      <td>Initial_Exploration</td>\n",
       "      <td>18/05/2023</td>\n",
       "      <td>18/05/2023</td>\n",
       "      <td>5.0</td>\n",
       "      <td>22.0</td>\n",
       "      <td>27.0</td>\n",
       "      <td>22.0</td>\n",
       "      <td>5.0</td>\n",
       "      <td>0.0</td>\n",
       "    </tr>\n",
       "    <tr>\n",
       "      <th>3</th>\n",
       "      <td>Preprocessing</td>\n",
       "      <td>19/05/2023</td>\n",
       "      <td>19/05/2023</td>\n",
       "      <td>27.0</td>\n",
       "      <td>46.0</td>\n",
       "      <td>43.0</td>\n",
       "      <td>16.0</td>\n",
       "      <td>0.0</td>\n",
       "      <td>3.0</td>\n",
       "    </tr>\n",
       "    <tr>\n",
       "      <th>4</th>\n",
       "      <td>Feature_Engineering</td>\n",
       "      <td>19/05/2023</td>\n",
       "      <td>19/05/2023</td>\n",
       "      <td>43.0</td>\n",
       "      <td>48.0</td>\n",
       "      <td>47.0</td>\n",
       "      <td>4.0</td>\n",
       "      <td>0.0</td>\n",
       "      <td>1.0</td>\n",
       "    </tr>\n",
       "    <tr>\n",
       "      <th>5</th>\n",
       "      <td>Data_Validation</td>\n",
       "      <td>19/05/2023</td>\n",
       "      <td>19/05/2023</td>\n",
       "      <td>47.0</td>\n",
       "      <td>51.0</td>\n",
       "      <td>49.0</td>\n",
       "      <td>2.0</td>\n",
       "      <td>0.0</td>\n",
       "      <td>2.0</td>\n",
       "    </tr>\n",
       "    <tr>\n",
       "      <th>6</th>\n",
       "      <td>Model_Selection</td>\n",
       "      <td>20/05/2023</td>\n",
       "      <td>20/05/2023</td>\n",
       "      <td>49.0</td>\n",
       "      <td>53.0</td>\n",
       "      <td>57.0</td>\n",
       "      <td>8.0</td>\n",
       "      <td>4.0</td>\n",
       "      <td>0.0</td>\n",
       "    </tr>\n",
       "    <tr>\n",
       "      <th>7</th>\n",
       "      <td>Model_Training</td>\n",
       "      <td>20/05/2023</td>\n",
       "      <td>20/05/2023</td>\n",
       "      <td>57.0</td>\n",
       "      <td>73.0</td>\n",
       "      <td>72.0</td>\n",
       "      <td>15.0</td>\n",
       "      <td>0.0</td>\n",
       "      <td>1.0</td>\n",
       "    </tr>\n",
       "    <tr>\n",
       "      <th>8</th>\n",
       "      <td>Model_Validation</td>\n",
       "      <td>20/05/2023</td>\n",
       "      <td>20/05/2023</td>\n",
       "      <td>72.0</td>\n",
       "      <td>80.0</td>\n",
       "      <td>81.0</td>\n",
       "      <td>9.0</td>\n",
       "      <td>1.0</td>\n",
       "      <td>0.0</td>\n",
       "    </tr>\n",
       "    <tr>\n",
       "      <th>9</th>\n",
       "      <td>Hyperparameter_Tuning</td>\n",
       "      <td>21/05/2023</td>\n",
       "      <td>21/05/2023</td>\n",
       "      <td>81.0</td>\n",
       "      <td>85.0</td>\n",
       "      <td>87.0</td>\n",
       "      <td>6.0</td>\n",
       "      <td>2.0</td>\n",
       "      <td>0.0</td>\n",
       "    </tr>\n",
       "    <tr>\n",
       "      <th>10</th>\n",
       "      <td>Model_Evaluation</td>\n",
       "      <td>21/05/2023</td>\n",
       "      <td>21/05/2023</td>\n",
       "      <td>87.0</td>\n",
       "      <td>99.0</td>\n",
       "      <td>98.0</td>\n",
       "      <td>11.0</td>\n",
       "      <td>0.0</td>\n",
       "      <td>1.0</td>\n",
       "    </tr>\n",
       "    <tr>\n",
       "      <th>11</th>\n",
       "      <td>Model_Deployment</td>\n",
       "      <td>21/05/2023</td>\n",
       "      <td>21/05/2023</td>\n",
       "      <td>98.0</td>\n",
       "      <td>102.0</td>\n",
       "      <td>102.0</td>\n",
       "      <td>4.0</td>\n",
       "      <td>0.0</td>\n",
       "      <td>0.0</td>\n",
       "    </tr>\n",
       "    <tr>\n",
       "      <th>12</th>\n",
       "      <td>Model_Optimization</td>\n",
       "      <td>22/05/2023</td>\n",
       "      <td>22/05/2023</td>\n",
       "      <td>102.0</td>\n",
       "      <td>106.0</td>\n",
       "      <td>106.0</td>\n",
       "      <td>4.0</td>\n",
       "      <td>0.0</td>\n",
       "      <td>0.0</td>\n",
       "    </tr>\n",
       "    <tr>\n",
       "      <th>13</th>\n",
       "      <td>Maintenance</td>\n",
       "      <td>22/05/2023</td>\n",
       "      <td>22/05/2023</td>\n",
       "      <td>106.0</td>\n",
       "      <td>110.0</td>\n",
       "      <td>106.0</td>\n",
       "      <td>0.0</td>\n",
       "      <td>0.0</td>\n",
       "      <td>4.0</td>\n",
       "    </tr>\n",
       "    <tr>\n",
       "      <th>14</th>\n",
       "      <td>Review</td>\n",
       "      <td>22/05/2023</td>\n",
       "      <td>22/05/2023</td>\n",
       "      <td>106.0</td>\n",
       "      <td>110.0</td>\n",
       "      <td>113.0</td>\n",
       "      <td>7.0</td>\n",
       "      <td>3.0</td>\n",
       "      <td>0.0</td>\n",
       "    </tr>\n",
       "    <tr>\n",
       "      <th>15</th>\n",
       "      <td>Pipeline_Maintenance</td>\n",
       "      <td>22/05/2023</td>\n",
       "      <td>22/05/2023</td>\n",
       "      <td>113.0</td>\n",
       "      <td>117.0</td>\n",
       "      <td>115.0</td>\n",
       "      <td>2.0</td>\n",
       "      <td>0.0</td>\n",
       "      <td>2.0</td>\n",
       "    </tr>\n",
       "    <tr>\n",
       "      <th>16</th>\n",
       "      <td>General_Maintenance</td>\n",
       "      <td>22/05/2023</td>\n",
       "      <td>22/05/2023</td>\n",
       "      <td>115.0</td>\n",
       "      <td>119.0</td>\n",
       "      <td>119.0</td>\n",
       "      <td>4.0</td>\n",
       "      <td>0.0</td>\n",
       "      <td>0.0</td>\n",
       "    </tr>\n",
       "    <tr>\n",
       "      <th>17</th>\n",
       "      <td>Misc</td>\n",
       "      <td>22/05/2023</td>\n",
       "      <td>22/05/2023</td>\n",
       "      <td>119.0</td>\n",
       "      <td>NaN</td>\n",
       "      <td>NaN</td>\n",
       "      <td>0.0</td>\n",
       "      <td>0.0</td>\n",
       "      <td>0.0</td>\n",
       "    </tr>\n",
       "  </tbody>\n",
       "</table>\n",
       "</div>"
      ],
      "text/plain": [
       "                    Stage  start_date    end_date  starting_hour   \n",
       "0                Metadata  18/05/2023  18/05/2023            0.0  \\\n",
       "1      Initial_Processing  18/05/2023  18/05/2023            4.0   \n",
       "2     Initial_Exploration  18/05/2023  18/05/2023            5.0   \n",
       "3           Preprocessing  19/05/2023  19/05/2023           27.0   \n",
       "4     Feature_Engineering  19/05/2023  19/05/2023           43.0   \n",
       "5         Data_Validation  19/05/2023  19/05/2023           47.0   \n",
       "6         Model_Selection  20/05/2023  20/05/2023           49.0   \n",
       "7          Model_Training  20/05/2023  20/05/2023           57.0   \n",
       "8        Model_Validation  20/05/2023  20/05/2023           72.0   \n",
       "9   Hyperparameter_Tuning  21/05/2023  21/05/2023           81.0   \n",
       "10       Model_Evaluation  21/05/2023  21/05/2023           87.0   \n",
       "11       Model_Deployment  21/05/2023  21/05/2023           98.0   \n",
       "12     Model_Optimization  22/05/2023  22/05/2023          102.0   \n",
       "13            Maintenance  22/05/2023  22/05/2023          106.0   \n",
       "14                 Review  22/05/2023  22/05/2023          106.0   \n",
       "15   Pipeline_Maintenance  22/05/2023  22/05/2023          113.0   \n",
       "16    General_Maintenance  22/05/2023  22/05/2023          115.0   \n",
       "17                   Misc  22/05/2023  22/05/2023          119.0   \n",
       "\n",
       "    estimated_hours_to_complete  true_end_hour  hours_spent  exceeded_hours   \n",
       "0                           4.0            4.0          4.0             0.0  \\\n",
       "1                           7.0            5.0          1.0             0.0   \n",
       "2                          22.0           27.0         22.0             5.0   \n",
       "3                          46.0           43.0         16.0             0.0   \n",
       "4                          48.0           47.0          4.0             0.0   \n",
       "5                          51.0           49.0          2.0             0.0   \n",
       "6                          53.0           57.0          8.0             4.0   \n",
       "7                          73.0           72.0         15.0             0.0   \n",
       "8                          80.0           81.0          9.0             1.0   \n",
       "9                          85.0           87.0          6.0             2.0   \n",
       "10                         99.0           98.0         11.0             0.0   \n",
       "11                        102.0          102.0          4.0             0.0   \n",
       "12                        106.0          106.0          4.0             0.0   \n",
       "13                        110.0          106.0          0.0             0.0   \n",
       "14                        110.0          113.0          7.0             3.0   \n",
       "15                        117.0          115.0          2.0             0.0   \n",
       "16                        119.0          119.0          4.0             0.0   \n",
       "17                          NaN            NaN          0.0             0.0   \n",
       "\n",
       "    finished_early_hours  \n",
       "0                    0.0  \n",
       "1                    2.0  \n",
       "2                    0.0  \n",
       "3                    3.0  \n",
       "4                    1.0  \n",
       "5                    2.0  \n",
       "6                    0.0  \n",
       "7                    1.0  \n",
       "8                    0.0  \n",
       "9                    0.0  \n",
       "10                   1.0  \n",
       "11                   0.0  \n",
       "12                   0.0  \n",
       "13                   4.0  \n",
       "14                   0.0  \n",
       "15                   2.0  \n",
       "16                   0.0  \n",
       "17                   0.0  "
      ]
     },
     "execution_count": 12,
     "metadata": {},
     "output_type": "execute_result"
    }
   ],
   "source": [
    "df"
   ]
  },
  {
   "cell_type": "code",
   "execution_count": null,
   "metadata": {},
   "outputs": [],
   "source": []
  }
 ],
 "metadata": {
  "kernelspec": {
   "display_name": "Python 3",
   "language": "python",
   "name": "python3"
  },
  "language_info": {
   "codemirror_mode": {
    "name": "ipython",
    "version": 3
   },
   "file_extension": ".py",
   "mimetype": "text/x-python",
   "name": "python",
   "nbconvert_exporter": "python",
   "pygments_lexer": "ipython3",
   "version": "3.11.3"
  },
  "orig_nbformat": 4
 },
 "nbformat": 4,
 "nbformat_minor": 2
}
