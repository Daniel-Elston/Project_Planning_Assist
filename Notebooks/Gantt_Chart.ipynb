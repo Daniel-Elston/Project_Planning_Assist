{
 "cells": [
  {
   "cell_type": "code",
   "execution_count": 1,
   "metadata": {},
   "outputs": [],
   "source": [
    "# Copy to top of each NB.ipynb to load all config files\n",
    "import os\n",
    "import glob\n",
    "\n",
    "project_name = 'Project_Planning_Assistant'\n",
    "config_dir = f'C:/Users/delst/OneDrive/Desktop/Code/Workspace/{project_name}/A_Root_Dir/Configurations'\n",
    "\n",
    "txt_files = glob.glob(os.path.join(config_dir, '*.txt'))\n",
    "\n",
    "for file_path in txt_files:\n",
    "    with open(file_path, 'r') as file:\n",
    "        content = file.read()\n",
    "        exec(content)\n",
    "\n",
    "start_time = datetime.datetime.now().replace(microsecond=0)"
   ]
  },
  {
   "cell_type": "markdown",
   "metadata": {},
   "source": [
    "---"
   ]
  },
  {
   "cell_type": "code",
   "execution_count": 2,
   "metadata": {},
   "outputs": [],
   "source": [
    "# get the difference between each value in a list suggested_end_hours\n",
    "def get_diff(suggested_end_hours):\n",
    "    diff = []\n",
    "    for i in range(len(suggested_end_hours)):\n",
    "        if i == 0:\n",
    "            diff.append(suggested_end_hours[i])\n",
    "        else:\n",
    "            diff.append(suggested_end_hours[i] - suggested_end_hours[i-1])\n",
    "    return diff\n",
    "\n",
    "#randomly add or take away 1 2 or 3 form end hours list\n",
    "def randomize_hours(suggested_end_hours):\n",
    "    completion_hours = []\n",
    "    for i in suggested_end_hours:\n",
    "        if np.isnan(i):\n",
    "            completion_hours.append(i)\n",
    "        else:\n",
    "            completion_hours.append(i + randint(-3, 3))\n",
    "    return completion_hours"
   ]
  },
  {
   "cell_type": "code",
   "execution_count": 3,
   "metadata": {},
   "outputs": [],
   "source": [
    "suggested_end_hours = [\n",
    "    4,9,24,\n",
    "    43,48,52,\n",
    "    56,72,80,\n",
    "    84,96,104,\n",
    "    110,120,128,\n",
    "    136,144,np.nan\n",
    "    ]\n",
    "\n",
    "type_list = [\n",
    "    'Data Exploration',\n",
    "    'Data Preprocessing',\n",
    "    'Model Training',\n",
    "    'Model Evaluation',\n",
    "    'Model Optimization',\n",
    "    'Maintenance'\n",
    "    ]\n",
    "\n",
    "stage_list = [\n",
    "    'Metadata', 'Initial_Processing', 'Initial_Exploration',\n",
    "    'Preprocessing', 'Feature_Engineering', 'Data_Validation', \n",
    "    'Model_Selection', 'Model_Training', 'Model_Validation', \n",
    "    'Hyperparameter_Tuning', 'Model_Evaluation','Model_Deployment', \n",
    "    'Model_Optimization', 'Maintenance', 'Project Review',\n",
    "    'Pipeline_Maintenance','General_Maintenance','Misc',\n",
    "    ] \n",
    "\n",
    "start_dates = [\n",
    "    \"18/05/2023\",\"18/05/2023\",\"18/05/2023\",\n",
    "    \"19/05/2023\",\"19/05/2023\",\"19/05/2023\",\n",
    "    \"20/05/2023\",\"20/05/2023\",\"20/05/2023\",\n",
    "    \"21/05/2023\",\"21/05/2023\",\"21/05/2023\",\n",
    "    \"22/05/2023\",\"22/05/2023\",\"22/05/2023\",\n",
    "    \"22/05/2023\",\"22/05/2023\",\"22/05/2023\",\n",
    "    ]\n",
    "\n",
    "end_dates = [\n",
    "    \"18/05/2023\",\"18/05/2023\",\"18/05/2023\",\n",
    "    \"19/05/2023\",\"19/05/2023\",\"19/05/2023\",\n",
    "    \"20/05/2023\",\"20/05/2023\",\"20/05/2023\",\n",
    "    \"21/05/2023\",\"21/05/2023\",\"21/05/2023\",\n",
    "    \"22/05/2023\",\"22/05/2023\",\"22/05/2023\",\n",
    "    \"22/05/2023\",\"22/05/2023\",\"22/05/2023\",\n",
    "    ]\n",
    "\n",
    "start_hours = [\n",
    "    0,4,7,\n",
    "    24,43,48,\n",
    "    52,56,72,\n",
    "    80,84,96,\n",
    "    100,104,108,\n",
    "    112,116,120\n",
    "    ]"
   ]
  },
  {
   "cell_type": "code",
   "execution_count": 4,
   "metadata": {},
   "outputs": [],
   "source": [
    "def gantt_input_data(stage_list, \n",
    "                     start_dates, \n",
    "                     end_dates, \n",
    "                     suggested_end_hours,\n",
    "                    #  get_diff, \n",
    "                     completion_hour,\n",
    "                    #  randomize_hours\n",
    "                     ):\n",
    "\n",
    "    diff = []\n",
    "    for i in range(len(suggested_end_hours)):\n",
    "        if i == 0:\n",
    "            diff.append(suggested_end_hours[i])\n",
    "        else:\n",
    "            diff.append(suggested_end_hours[i] - suggested_end_hours[i-1])\n",
    "            \n",
    "    # compute the initial variables\n",
    "    estimated_hours_to_complete = diff\n",
    "    # completion_hour = randomize_hours(suggested_end_hours)\n",
    "    starting_hour = pd.Series([0] + completion_hour[:-1])  # shift operation\n",
    "    hours_spent = (completion_hour - starting_hour).fillna(0) \n",
    "    estimated_end_hour = starting_hour + estimated_hours_to_complete\n",
    "\n",
    "    # create the dataframe\n",
    "    df = pd.DataFrame({\n",
    "        'Stage': stage_list,\n",
    "        'start_date': start_dates,\n",
    "        'end_date': end_dates,\n",
    "        'starting_hour': starting_hour,\n",
    "        'estimated_end_hour': estimated_end_hour,\n",
    "        'estimated_hours_to_complete': estimated_hours_to_complete,\n",
    "        'completion_hour': completion_hour,\n",
    "        'hours_spent': hours_spent, \n",
    "        })\n",
    "\n",
    "    # add exceeded_hours and finished_early_hours to the dataframe\n",
    "    df['exceeded_hours'] = np.where(df['hours_spent'] > df['estimated_hours_to_complete'], df['hours_spent'] - df['estimated_hours_to_complete'], 0)\n",
    "    df['finished_early_hours'] = np.where(df['hours_spent'] < df['estimated_hours_to_complete'], df['estimated_hours_to_complete'] - df['hours_spent'], 0)\n",
    "    \n",
    "    return df"
   ]
  },
  {
   "cell_type": "code",
   "execution_count": 5,
   "metadata": {},
   "outputs": [
    {
     "data": {
      "text/html": [
       "<div>\n",
       "<style scoped>\n",
       "    .dataframe tbody tr th:only-of-type {\n",
       "        vertical-align: middle;\n",
       "    }\n",
       "\n",
       "    .dataframe tbody tr th {\n",
       "        vertical-align: top;\n",
       "    }\n",
       "\n",
       "    .dataframe thead th {\n",
       "        text-align: right;\n",
       "    }\n",
       "</style>\n",
       "<table border=\"1\" class=\"dataframe\">\n",
       "  <thead>\n",
       "    <tr style=\"text-align: right;\">\n",
       "      <th></th>\n",
       "      <th>Stage</th>\n",
       "      <th>start_date</th>\n",
       "      <th>end_date</th>\n",
       "      <th>starting_hour</th>\n",
       "      <th>estimated_end_hour</th>\n",
       "      <th>estimated_hours_to_complete</th>\n",
       "      <th>completion_hour</th>\n",
       "      <th>hours_spent</th>\n",
       "      <th>exceeded_hours</th>\n",
       "      <th>finished_early_hours</th>\n",
       "    </tr>\n",
       "  </thead>\n",
       "  <tbody>\n",
       "    <tr>\n",
       "      <th>0</th>\n",
       "      <td>Metadata</td>\n",
       "      <td>21/05/23</td>\n",
       "      <td>21/05/23</td>\n",
       "      <td>0</td>\n",
       "      <td>4</td>\n",
       "      <td>4</td>\n",
       "      <td>5</td>\n",
       "      <td>5</td>\n",
       "      <td>1</td>\n",
       "      <td>0</td>\n",
       "    </tr>\n",
       "    <tr>\n",
       "      <th>1</th>\n",
       "      <td>Initial_Processing</td>\n",
       "      <td>21/05/23</td>\n",
       "      <td>21/05/23</td>\n",
       "      <td>5</td>\n",
       "      <td>10</td>\n",
       "      <td>5</td>\n",
       "      <td>6</td>\n",
       "      <td>1</td>\n",
       "      <td>0</td>\n",
       "      <td>4</td>\n",
       "    </tr>\n",
       "    <tr>\n",
       "      <th>2</th>\n",
       "      <td>Initial_Exploration</td>\n",
       "      <td>21/05/23</td>\n",
       "      <td>21/05/23</td>\n",
       "      <td>6</td>\n",
       "      <td>21</td>\n",
       "      <td>15</td>\n",
       "      <td>27</td>\n",
       "      <td>21</td>\n",
       "      <td>6</td>\n",
       "      <td>0</td>\n",
       "    </tr>\n",
       "  </tbody>\n",
       "</table>\n",
       "</div>"
      ],
      "text/plain": [
       "                 Stage start_date  end_date  starting_hour   \n",
       "0             Metadata   21/05/23  21/05/23              0  \\\n",
       "1   Initial_Processing   21/05/23  21/05/23              5   \n",
       "2  Initial_Exploration   21/05/23  21/05/23              6   \n",
       "\n",
       "   estimated_end_hour  estimated_hours_to_complete  completion_hour   \n",
       "0                   4                            4                5  \\\n",
       "1                  10                            5                6   \n",
       "2                  21                           15               27   \n",
       "\n",
       "   hours_spent  exceeded_hours  finished_early_hours  \n",
       "0            5               1                     0  \n",
       "1            1               0                     4  \n",
       "2           21               6                     0  "
      ]
     },
     "execution_count": 5,
     "metadata": {},
     "output_type": "execute_result"
    }
   ],
   "source": [
    "stage_list = [\n",
    "    'Metadata', 'Initial_Processing', 'Initial_Exploration',\n",
    "    # 'Preprocessing', 'Feature_Engineering', 'Data_Validation', \n",
    "    # 'Model_Selection', 'Model_Training', 'Model_Validation', \n",
    "    # 'Hyperparameter_Tuning', 'Model_Evaluation','Model_Deployment', \n",
    "    # 'Model_Optimization', 'Maintenance', 'Project Review',\n",
    "    # 'Pipeline_Maintenance','General_Maintenance','Misc',\n",
    "    ] \n",
    "\n",
    "start_dates = ['21/05/23','21/05/23','21/05/23',\n",
    "               ]\n",
    "\n",
    "end_dates = ['21/05/23','21/05/23','21/05/23',\n",
    "             ]\n",
    "\n",
    "suggested_end_hours = [4,9,24,\n",
    "                       ]\n",
    "# # get_diff = \n",
    "completion_hour = [5,6,27,\n",
    "                   ]\n",
    "\n",
    "df = gantt_input_data(stage_list, \n",
    "                     start_dates, \n",
    "                     end_dates, \n",
    "                     suggested_end_hours,\n",
    "                    #  get_diff, \n",
    "                     completion_hour,\n",
    "                    #  randomize_hours\n",
    "                     )\n",
    "df"
   ]
  },
  {
   "cell_type": "code",
   "execution_count": 6,
   "metadata": {},
   "outputs": [],
   "source": [
    "axis_label_color = 'black'\n",
    "\n",
    "light_navy = px.colors.qualitative.Pastel1[1]\n",
    "navy = px.colors.qualitative.T10[0]\n",
    "dark_navy = px.colors.qualitative.Antique[4]\n",
    "\n",
    "dark_grey = px.colors.qualitative.Set1[8]\n",
    "darker_grey = px.colors.qualitative.Dark2[7]\n",
    "light_grey = px.colors.qualitative.Pastel[10]\n",
    "lighter_grey = px.colors.qualitative.Pastel2[7]"
   ]
  },
  {
   "cell_type": "code",
   "execution_count": 7,
   "metadata": {},
   "outputs": [],
   "source": [
    "bar_color = dark_grey\n",
    "\n",
    "grid_color = axis_label_color\n",
    "\n",
    "graph_color = dark_navy\n",
    "bg_color = dark_navy"
   ]
  },
  {
   "cell_type": "code",
   "execution_count": 8,
   "metadata": {},
   "outputs": [
    {
     "data": {
      "application/vnd.plotly.v1+json": {
       "config": {
        "plotlyServerURL": "https://plot.ly"
       },
       "data": [
        {
         "base": [
          0,
          5,
          6
         ],
         "marker": {
          "color": "rgb(153,153,153)",
          "line": {
           "color": "rgba(0,0,0,0)"
          }
         },
         "name": "Hours Spent",
         "orientation": "h",
         "type": "bar",
         "x": [
          5,
          1,
          21
         ],
         "y": [
          "Metadata",
          "Initial_Processing",
          "Initial_Exploration"
         ]
        },
        {
         "base": [
          4,
          10,
          21
         ],
         "marker": {
          "color": "red",
          "line": {
           "color": "rgba(0,0,0,0)"
          },
          "opacity": 0.5
         },
         "name": "Exceeded Hours",
         "orientation": "h",
         "type": "bar",
         "x": [
          1,
          0,
          6
         ],
         "y": [
          "Metadata",
          "Initial_Processing",
          "Initial_Exploration"
         ]
        },
        {
         "base": [
          5,
          6,
          27
         ],
         "marker": {
          "color": "green",
          "line": {
           "color": "rgba(0,0,0,0)"
          },
          "opacity": 0.5
         },
         "name": "Finished Early",
         "orientation": "h",
         "type": "bar",
         "x": [
          0,
          4,
          0
         ],
         "y": [
          "Metadata",
          "Initial_Processing",
          "Initial_Exploration"
         ]
        }
       ],
       "layout": {
        "barmode": "stack",
        "height": 800,
        "hovermode": "closest",
        "margin": {
         "b": 20,
         "l": 20,
         "r": 20,
         "t": 40
        },
        "paper_bgcolor": "rgb(82, 106, 131)",
        "plot_bgcolor": "rgb(82, 106, 131)",
        "shapes": [
         {
          "line": {
           "color": "black",
           "width": 2
          },
          "type": "rect",
          "x0": 0,
          "x1": 1,
          "xref": "paper",
          "y0": 0,
          "y1": 1,
          "yref": "paper"
         }
        ],
        "showlegend": false,
        "template": {
         "data": {
          "bar": [
           {
            "error_x": {
             "color": "#2a3f5f"
            },
            "error_y": {
             "color": "#2a3f5f"
            },
            "marker": {
             "line": {
              "color": "#E5ECF6",
              "width": 0.5
             }
            },
            "type": "bar"
           }
          ],
          "barpolar": [
           {
            "marker": {
             "line": {
              "color": "#E5ECF6",
              "width": 0.5
             }
            },
            "type": "barpolar"
           }
          ],
          "carpet": [
           {
            "aaxis": {
             "endlinecolor": "#2a3f5f",
             "gridcolor": "white",
             "linecolor": "white",
             "minorgridcolor": "white",
             "startlinecolor": "#2a3f5f"
            },
            "baxis": {
             "endlinecolor": "#2a3f5f",
             "gridcolor": "white",
             "linecolor": "white",
             "minorgridcolor": "white",
             "startlinecolor": "#2a3f5f"
            },
            "type": "carpet"
           }
          ],
          "choropleth": [
           {
            "colorbar": {
             "outlinewidth": 0,
             "ticks": ""
            },
            "type": "choropleth"
           }
          ],
          "contour": [
           {
            "colorbar": {
             "outlinewidth": 0,
             "ticks": ""
            },
            "colorscale": [
             [
              0,
              "#0d0887"
             ],
             [
              0.1111111111111111,
              "#46039f"
             ],
             [
              0.2222222222222222,
              "#7201a8"
             ],
             [
              0.3333333333333333,
              "#9c179e"
             ],
             [
              0.4444444444444444,
              "#bd3786"
             ],
             [
              0.5555555555555556,
              "#d8576b"
             ],
             [
              0.6666666666666666,
              "#ed7953"
             ],
             [
              0.7777777777777778,
              "#fb9f3a"
             ],
             [
              0.8888888888888888,
              "#fdca26"
             ],
             [
              1,
              "#f0f921"
             ]
            ],
            "type": "contour"
           }
          ],
          "contourcarpet": [
           {
            "colorbar": {
             "outlinewidth": 0,
             "ticks": ""
            },
            "type": "contourcarpet"
           }
          ],
          "heatmap": [
           {
            "colorbar": {
             "outlinewidth": 0,
             "ticks": ""
            },
            "colorscale": [
             [
              0,
              "#0d0887"
             ],
             [
              0.1111111111111111,
              "#46039f"
             ],
             [
              0.2222222222222222,
              "#7201a8"
             ],
             [
              0.3333333333333333,
              "#9c179e"
             ],
             [
              0.4444444444444444,
              "#bd3786"
             ],
             [
              0.5555555555555556,
              "#d8576b"
             ],
             [
              0.6666666666666666,
              "#ed7953"
             ],
             [
              0.7777777777777778,
              "#fb9f3a"
             ],
             [
              0.8888888888888888,
              "#fdca26"
             ],
             [
              1,
              "#f0f921"
             ]
            ],
            "type": "heatmap"
           }
          ],
          "heatmapgl": [
           {
            "colorbar": {
             "outlinewidth": 0,
             "ticks": ""
            },
            "colorscale": [
             [
              0,
              "#0d0887"
             ],
             [
              0.1111111111111111,
              "#46039f"
             ],
             [
              0.2222222222222222,
              "#7201a8"
             ],
             [
              0.3333333333333333,
              "#9c179e"
             ],
             [
              0.4444444444444444,
              "#bd3786"
             ],
             [
              0.5555555555555556,
              "#d8576b"
             ],
             [
              0.6666666666666666,
              "#ed7953"
             ],
             [
              0.7777777777777778,
              "#fb9f3a"
             ],
             [
              0.8888888888888888,
              "#fdca26"
             ],
             [
              1,
              "#f0f921"
             ]
            ],
            "type": "heatmapgl"
           }
          ],
          "histogram": [
           {
            "marker": {
             "colorbar": {
              "outlinewidth": 0,
              "ticks": ""
             }
            },
            "type": "histogram"
           }
          ],
          "histogram2d": [
           {
            "colorbar": {
             "outlinewidth": 0,
             "ticks": ""
            },
            "colorscale": [
             [
              0,
              "#0d0887"
             ],
             [
              0.1111111111111111,
              "#46039f"
             ],
             [
              0.2222222222222222,
              "#7201a8"
             ],
             [
              0.3333333333333333,
              "#9c179e"
             ],
             [
              0.4444444444444444,
              "#bd3786"
             ],
             [
              0.5555555555555556,
              "#d8576b"
             ],
             [
              0.6666666666666666,
              "#ed7953"
             ],
             [
              0.7777777777777778,
              "#fb9f3a"
             ],
             [
              0.8888888888888888,
              "#fdca26"
             ],
             [
              1,
              "#f0f921"
             ]
            ],
            "type": "histogram2d"
           }
          ],
          "histogram2dcontour": [
           {
            "colorbar": {
             "outlinewidth": 0,
             "ticks": ""
            },
            "colorscale": [
             [
              0,
              "#0d0887"
             ],
             [
              0.1111111111111111,
              "#46039f"
             ],
             [
              0.2222222222222222,
              "#7201a8"
             ],
             [
              0.3333333333333333,
              "#9c179e"
             ],
             [
              0.4444444444444444,
              "#bd3786"
             ],
             [
              0.5555555555555556,
              "#d8576b"
             ],
             [
              0.6666666666666666,
              "#ed7953"
             ],
             [
              0.7777777777777778,
              "#fb9f3a"
             ],
             [
              0.8888888888888888,
              "#fdca26"
             ],
             [
              1,
              "#f0f921"
             ]
            ],
            "type": "histogram2dcontour"
           }
          ],
          "mesh3d": [
           {
            "colorbar": {
             "outlinewidth": 0,
             "ticks": ""
            },
            "type": "mesh3d"
           }
          ],
          "parcoords": [
           {
            "line": {
             "colorbar": {
              "outlinewidth": 0,
              "ticks": ""
             }
            },
            "type": "parcoords"
           }
          ],
          "pie": [
           {
            "automargin": true,
            "type": "pie"
           }
          ],
          "scatter": [
           {
            "marker": {
             "colorbar": {
              "outlinewidth": 0,
              "ticks": ""
             }
            },
            "type": "scatter"
           }
          ],
          "scatter3d": [
           {
            "line": {
             "colorbar": {
              "outlinewidth": 0,
              "ticks": ""
             }
            },
            "marker": {
             "colorbar": {
              "outlinewidth": 0,
              "ticks": ""
             }
            },
            "type": "scatter3d"
           }
          ],
          "scattercarpet": [
           {
            "marker": {
             "colorbar": {
              "outlinewidth": 0,
              "ticks": ""
             }
            },
            "type": "scattercarpet"
           }
          ],
          "scattergeo": [
           {
            "marker": {
             "colorbar": {
              "outlinewidth": 0,
              "ticks": ""
             }
            },
            "type": "scattergeo"
           }
          ],
          "scattergl": [
           {
            "marker": {
             "colorbar": {
              "outlinewidth": 0,
              "ticks": ""
             }
            },
            "type": "scattergl"
           }
          ],
          "scattermapbox": [
           {
            "marker": {
             "colorbar": {
              "outlinewidth": 0,
              "ticks": ""
             }
            },
            "type": "scattermapbox"
           }
          ],
          "scatterpolar": [
           {
            "marker": {
             "colorbar": {
              "outlinewidth": 0,
              "ticks": ""
             }
            },
            "type": "scatterpolar"
           }
          ],
          "scatterpolargl": [
           {
            "marker": {
             "colorbar": {
              "outlinewidth": 0,
              "ticks": ""
             }
            },
            "type": "scatterpolargl"
           }
          ],
          "scatterternary": [
           {
            "marker": {
             "colorbar": {
              "outlinewidth": 0,
              "ticks": ""
             }
            },
            "type": "scatterternary"
           }
          ],
          "surface": [
           {
            "colorbar": {
             "outlinewidth": 0,
             "ticks": ""
            },
            "colorscale": [
             [
              0,
              "#0d0887"
             ],
             [
              0.1111111111111111,
              "#46039f"
             ],
             [
              0.2222222222222222,
              "#7201a8"
             ],
             [
              0.3333333333333333,
              "#9c179e"
             ],
             [
              0.4444444444444444,
              "#bd3786"
             ],
             [
              0.5555555555555556,
              "#d8576b"
             ],
             [
              0.6666666666666666,
              "#ed7953"
             ],
             [
              0.7777777777777778,
              "#fb9f3a"
             ],
             [
              0.8888888888888888,
              "#fdca26"
             ],
             [
              1,
              "#f0f921"
             ]
            ],
            "type": "surface"
           }
          ],
          "table": [
           {
            "cells": {
             "fill": {
              "color": "#EBF0F8"
             },
             "line": {
              "color": "white"
             }
            },
            "header": {
             "fill": {
              "color": "#C8D4E3"
             },
             "line": {
              "color": "white"
             }
            },
            "type": "table"
           }
          ]
         },
         "layout": {
          "annotationdefaults": {
           "arrowcolor": "#2a3f5f",
           "arrowhead": 0,
           "arrowwidth": 1
          },
          "autotypenumbers": "strict",
          "coloraxis": {
           "colorbar": {
            "outlinewidth": 0,
            "ticks": ""
           }
          },
          "colorscale": {
           "diverging": [
            [
             0,
             "#8e0152"
            ],
            [
             0.1,
             "#c51b7d"
            ],
            [
             0.2,
             "#de77ae"
            ],
            [
             0.3,
             "#f1b6da"
            ],
            [
             0.4,
             "#fde0ef"
            ],
            [
             0.5,
             "#f7f7f7"
            ],
            [
             0.6,
             "#e6f5d0"
            ],
            [
             0.7,
             "#b8e186"
            ],
            [
             0.8,
             "#7fbc41"
            ],
            [
             0.9,
             "#4d9221"
            ],
            [
             1,
             "#276419"
            ]
           ],
           "sequential": [
            [
             0,
             "#0d0887"
            ],
            [
             0.1111111111111111,
             "#46039f"
            ],
            [
             0.2222222222222222,
             "#7201a8"
            ],
            [
             0.3333333333333333,
             "#9c179e"
            ],
            [
             0.4444444444444444,
             "#bd3786"
            ],
            [
             0.5555555555555556,
             "#d8576b"
            ],
            [
             0.6666666666666666,
             "#ed7953"
            ],
            [
             0.7777777777777778,
             "#fb9f3a"
            ],
            [
             0.8888888888888888,
             "#fdca26"
            ],
            [
             1,
             "#f0f921"
            ]
           ],
           "sequentialminus": [
            [
             0,
             "#0d0887"
            ],
            [
             0.1111111111111111,
             "#46039f"
            ],
            [
             0.2222222222222222,
             "#7201a8"
            ],
            [
             0.3333333333333333,
             "#9c179e"
            ],
            [
             0.4444444444444444,
             "#bd3786"
            ],
            [
             0.5555555555555556,
             "#d8576b"
            ],
            [
             0.6666666666666666,
             "#ed7953"
            ],
            [
             0.7777777777777778,
             "#fb9f3a"
            ],
            [
             0.8888888888888888,
             "#fdca26"
            ],
            [
             1,
             "#f0f921"
            ]
           ]
          },
          "colorway": [
           "#636efa",
           "#EF553B",
           "#00cc96",
           "#ab63fa",
           "#FFA15A",
           "#19d3f3",
           "#FF6692",
           "#B6E880",
           "#FF97FF",
           "#FECB52"
          ],
          "font": {
           "color": "#2a3f5f"
          },
          "geo": {
           "bgcolor": "white",
           "lakecolor": "white",
           "landcolor": "#E5ECF6",
           "showlakes": true,
           "showland": true,
           "subunitcolor": "white"
          },
          "hoverlabel": {
           "align": "left"
          },
          "hovermode": "closest",
          "mapbox": {
           "style": "light"
          },
          "paper_bgcolor": "white",
          "plot_bgcolor": "#E5ECF6",
          "polar": {
           "angularaxis": {
            "gridcolor": "white",
            "linecolor": "white",
            "ticks": ""
           },
           "bgcolor": "#E5ECF6",
           "radialaxis": {
            "gridcolor": "white",
            "linecolor": "white",
            "ticks": ""
           }
          },
          "scene": {
           "xaxis": {
            "backgroundcolor": "#E5ECF6",
            "gridcolor": "white",
            "gridwidth": 2,
            "linecolor": "white",
            "showbackground": true,
            "ticks": "",
            "zerolinecolor": "white"
           },
           "yaxis": {
            "backgroundcolor": "#E5ECF6",
            "gridcolor": "white",
            "gridwidth": 2,
            "linecolor": "white",
            "showbackground": true,
            "ticks": "",
            "zerolinecolor": "white"
           },
           "zaxis": {
            "backgroundcolor": "#E5ECF6",
            "gridcolor": "white",
            "gridwidth": 2,
            "linecolor": "white",
            "showbackground": true,
            "ticks": "",
            "zerolinecolor": "white"
           }
          },
          "shapedefaults": {
           "line": {
            "color": "#2a3f5f"
           }
          },
          "ternary": {
           "aaxis": {
            "gridcolor": "white",
            "linecolor": "white",
            "ticks": ""
           },
           "baxis": {
            "gridcolor": "white",
            "linecolor": "white",
            "ticks": ""
           },
           "bgcolor": "#E5ECF6",
           "caxis": {
            "gridcolor": "white",
            "linecolor": "white",
            "ticks": ""
           }
          },
          "title": {
           "x": 0.05
          },
          "xaxis": {
           "automargin": true,
           "gridcolor": "white",
           "linecolor": "white",
           "ticks": "",
           "title": {
            "standoff": 15
           },
           "zerolinecolor": "white",
           "zerolinewidth": 2
          },
          "yaxis": {
           "automargin": true,
           "gridcolor": "white",
           "linecolor": "white",
           "ticks": "",
           "title": {
            "standoff": 15
           },
           "zerolinecolor": "white",
           "zerolinewidth": 2
          }
         }
        },
        "title": {
         "font": {
          "color": "black",
          "size": 24
         },
         "text": "Gantt Chart"
        },
        "xaxis": {
         "dtick": 5,
         "gridcolor": "black",
         "linecolor": "black",
         "linewidth": 1,
         "showgrid": true,
         "showline": true,
         "tickfont": {
          "color": "black"
         },
         "tickmode": "linear",
         "title": {
          "font": {
           "color": "black"
          },
          "text": "Project Hours"
         }
        },
        "yaxis": {
         "linecolor": "grey",
         "linewidth": 1,
         "showgrid": false,
         "showline": true,
         "tickfont": {
          "color": "black"
         },
         "title": {
          "font": {
           "color": "black"
          },
          "text": "Stage"
         }
        }
       }
      }
     },
     "metadata": {},
     "output_type": "display_data"
    }
   ],
   "source": [
    "fig = go.Figure()\n",
    "\n",
    "fig.add_trace(go.Bar(\n",
    "    y=df['Stage'],\n",
    "    x=df['hours_spent'],\n",
    "    base=df['starting_hour'],\n",
    "    orientation='h',\n",
    "    marker=dict(\n",
    "        color=dark_grey,\n",
    "        line=dict(color='rgba(0,0,0,0)')  # Set the line color to transparent\n",
    "\n",
    "    ),\n",
    "    name='Hours Spent'\n",
    "))\n",
    "\n",
    "fig.add_trace(go.Bar(\n",
    "    y=df['Stage'],\n",
    "    x=df['exceeded_hours'],\n",
    "    base=df['estimated_end_hour'],\n",
    "    orientation='h',\n",
    "    marker=dict(\n",
    "        color='red',\n",
    "        opacity=0.5,\n",
    "        line=dict(color='rgba(0,0,0,0)')  # Set the line color to transparent\n",
    "    ),\n",
    "    name='Exceeded Hours'\n",
    "))\n",
    "\n",
    "fig.add_trace(go.Bar(\n",
    "    y=df['Stage'],\n",
    "    x=df['finished_early_hours'],\n",
    "    base=df['completion_hour'],\n",
    "    orientation='h',\n",
    "    marker=dict(\n",
    "        color='green',\n",
    "        opacity=0.5,\n",
    "        line=dict(color='rgba(0,0,0,0)')  # Set the line color to transparent\n",
    "    ),\n",
    "    name='Finished Early'\n",
    "))\n",
    "\n",
    "\n",
    "\n",
    "fig.update_layout(\n",
    "    barmode='stack',\n",
    "    title={\n",
    "        'text':'Gantt Chart',\n",
    "        'font':{\n",
    "            'size':24,\n",
    "            'color':axis_label_color,\n",
    "            # 'bold': True,\n",
    "        },\n",
    "        },\n",
    "    xaxis_title='Project Hours',\n",
    "    yaxis_title='Stage',\n",
    "    xaxis=dict(\n",
    "        showgrid=True,  # Add grid lines on the x-axis\n",
    "        tickmode='linear',  # Use linear tick mode\n",
    "        dtick=5,  # Set the tick interval to 3\n",
    "        gridcolor=grid_color,  # Set the color of the grid lines\n",
    "        showline=True,  # Show x-axis line\n",
    "        linewidth=1,  # Set x-axis line width\n",
    "        linecolor=grid_color,  # Set x-axis line color\n",
    "        title=dict(\n",
    "            font=dict(color=axis_label_color)  # Set the x-axis label text color to white\n",
    "        ),\n",
    "        tickfont=dict(color=axis_label_color)  # Set the x-axis tick labels color to white\n",
    "    ),\n",
    "    yaxis=dict(\n",
    "        showgrid=False,  # Remove grid lines on the y-axis\n",
    "        showline=True,  # Show y-axis line\n",
    "        linewidth=1,  # Set y-axis line width\n",
    "        linecolor='grey',  # Set y-axis line color\n",
    "        title=dict(\n",
    "            font=dict(color=axis_label_color)  # Set the y-axis label text color to white\n",
    "        ),\n",
    "        tickfont=dict(color=axis_label_color)  # Set the y-axis tick labels color to white\n",
    "    ),\n",
    "    height=800,  # Set the plot height to 600 pixels\n",
    "    plot_bgcolor=graph_color,  # Set the background color\n",
    "    paper_bgcolor=bg_color,  # Set the paper background color\n",
    "    showlegend=False,  # Hide legend\n",
    "    margin=dict(l=20, r=20, t=40, b=20),  # Set margin\n",
    "    hovermode='closest',  # Set hover mode\n",
    "    shapes=[\n",
    "        dict(\n",
    "            type='rect',\n",
    "            xref='paper',\n",
    "            yref='paper',\n",
    "            x0=0,\n",
    "            y0=0,\n",
    "            x1=1,\n",
    "            y1=1,\n",
    "            line=dict(\n",
    "                color=grid_color,\n",
    "                width=2\n",
    "            )\n",
    "        )\n",
    "    ]\n",
    ")\n",
    "\n",
    "fig.show()\n",
    "\n",
    "# fig = px.colors.qualitative.swatches()\n",
    "# fig.show()"
   ]
  }
 ],
 "metadata": {
  "kernelspec": {
   "display_name": "Python 3",
   "language": "python",
   "name": "python3"
  },
  "language_info": {
   "codemirror_mode": {
    "name": "ipython",
    "version": 3
   },
   "file_extension": ".py",
   "mimetype": "text/x-python",
   "name": "python",
   "nbconvert_exporter": "python",
   "pygments_lexer": "ipython3",
   "version": "3.11.3"
  },
  "orig_nbformat": 4
 },
 "nbformat": 4,
 "nbformat_minor": 2
}
