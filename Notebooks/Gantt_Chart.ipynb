{
 "cells": [
  {
   "cell_type": "code",
   "execution_count": 1,
   "metadata": {},
   "outputs": [],
   "source": [
    "# Copy to top of each NB.ipynb to load all config files\n",
    "import os\n",
    "import glob\n",
    "\n",
    "project_name = 'Project_Planning_Assistant'\n",
    "config_dir = f'C:/Users/delst/OneDrive/Desktop/Code/Workspace/{project_name}/A_Root_Dir/Configurations'\n",
    "\n",
    "txt_files = glob.glob(os.path.join(config_dir, '*.txt'))\n",
    "\n",
    "for file_path in txt_files:\n",
    "    with open(file_path, 'r') as file:\n",
    "        content = file.read()\n",
    "        exec(content)\n",
    "\n",
    "start_time = datetime.datetime.now().replace(microsecond=0)"
   ]
  },
  {
   "cell_type": "markdown",
   "metadata": {},
   "source": [
    "---"
   ]
  },
  {
   "cell_type": "code",
   "execution_count": 2,
   "metadata": {},
   "outputs": [],
   "source": [
    "suggested_end_hours = [\n",
    "    4,9,24,\n",
    "    43,48,52,\n",
    "    56,72,80,\n",
    "    84,96,104,\n",
    "    110,120,128,\n",
    "    136,144,np.nan\n",
    "    ]\n",
    "\n",
    "type_list = [\n",
    "    'Data Exploration',\n",
    "    'Data Preprocessing',\n",
    "    'Model Training',\n",
    "    'Model Evaluation',\n",
    "    'Model Optimization',\n",
    "    'Maintenance'\n",
    "    ]\n",
    "\n",
    "stage_list = [\n",
    "    'Metadata', 'Initial_Processing', 'Initial_Exploration',\n",
    "    'Preprocessing', 'Feature_Engineering', 'Data_Validation', \n",
    "    'Model_Selection', 'Model_Training', 'Model_Validation', \n",
    "    'Hyperparameter_Tuning', 'Model_Evaluation','Model_Deployment', \n",
    "    'Model_Optimization', 'Maintenance', 'Project Review',\n",
    "    'Pipeline_Maintenance','General_Maintenance','Misc',\n",
    "    ] \n",
    "\n",
    "start_dates = [\n",
    "    \"18/05/2023\",\"18/05/2023\",\"18/05/2023\",\n",
    "    \"19/05/2023\",\"19/05/2023\",\"19/05/2023\",\n",
    "    \"20/05/2023\",\"20/05/2023\",\"20/05/2023\",\n",
    "    \"21/05/2023\",\"21/05/2023\",\"21/05/2023\",\n",
    "    \"22/05/2023\",\"22/05/2023\",\"22/05/2023\",\n",
    "    \"22/05/2023\",\"22/05/2023\",\"22/05/2023\",\n",
    "    ]\n",
    "\n",
    "end_dates = [\n",
    "    \"18/05/2023\",\"18/05/2023\",\"18/05/2023\",\n",
    "    \"19/05/2023\",\"19/05/2023\",\"19/05/2023\",\n",
    "    \"20/05/2023\",\"20/05/2023\",\"20/05/2023\",\n",
    "    \"21/05/2023\",\"21/05/2023\",\"21/05/2023\",\n",
    "    \"22/05/2023\",\"22/05/2023\",\"22/05/2023\",\n",
    "    \"22/05/2023\",\"22/05/2023\",\"22/05/2023\",\n",
    "    ]\n",
    "\n",
    "start_hours = [\n",
    "    0,4,7,\n",
    "    24,43,48,\n",
    "    52,56,72,\n",
    "    80,84,96,\n",
    "    100,104,108,\n",
    "    112,116,120\n",
    "    ]\n",
    "\n",
    "completion_hour = [5,6,27,\n",
    "                   44,46,56,\n",
    "                   59,70,81,\n",
    "                   82,100,105,\n",
    "                   115,120,132,\n",
    "                   134,140,141\n",
    "                   ]"
   ]
  },
  {
   "cell_type": "code",
   "execution_count": 3,
   "metadata": {},
   "outputs": [
    {
     "data": {
      "text/html": [
       "<div>\n",
       "<style scoped>\n",
       "    .dataframe tbody tr th:only-of-type {\n",
       "        vertical-align: middle;\n",
       "    }\n",
       "\n",
       "    .dataframe tbody tr th {\n",
       "        vertical-align: top;\n",
       "    }\n",
       "\n",
       "    .dataframe thead th {\n",
       "        text-align: right;\n",
       "    }\n",
       "</style>\n",
       "<table border=\"1\" class=\"dataframe\">\n",
       "  <thead>\n",
       "    <tr style=\"text-align: right;\">\n",
       "      <th></th>\n",
       "      <th>Stage</th>\n",
       "      <th>start_date</th>\n",
       "      <th>end_date</th>\n",
       "      <th>starting_hour</th>\n",
       "      <th>estimated_end_hour</th>\n",
       "      <th>estimated_hours_to_complete</th>\n",
       "      <th>completion_hour</th>\n",
       "      <th>hours_spent</th>\n",
       "      <th>exceeded_hours</th>\n",
       "      <th>finished_early_hours</th>\n",
       "    </tr>\n",
       "  </thead>\n",
       "  <tbody>\n",
       "    <tr>\n",
       "      <th>0</th>\n",
       "      <td>Metadata</td>\n",
       "      <td>18/05/2023</td>\n",
       "      <td>18/05/2023</td>\n",
       "      <td>0</td>\n",
       "      <td>4.0</td>\n",
       "      <td>4.0</td>\n",
       "      <td>5</td>\n",
       "      <td>5</td>\n",
       "      <td>1.0</td>\n",
       "      <td>0.0</td>\n",
       "    </tr>\n",
       "    <tr>\n",
       "      <th>1</th>\n",
       "      <td>Initial_Processing</td>\n",
       "      <td>18/05/2023</td>\n",
       "      <td>18/05/2023</td>\n",
       "      <td>5</td>\n",
       "      <td>10.0</td>\n",
       "      <td>5.0</td>\n",
       "      <td>6</td>\n",
       "      <td>1</td>\n",
       "      <td>0.0</td>\n",
       "      <td>4.0</td>\n",
       "    </tr>\n",
       "    <tr>\n",
       "      <th>2</th>\n",
       "      <td>Initial_Exploration</td>\n",
       "      <td>18/05/2023</td>\n",
       "      <td>18/05/2023</td>\n",
       "      <td>6</td>\n",
       "      <td>21.0</td>\n",
       "      <td>15.0</td>\n",
       "      <td>27</td>\n",
       "      <td>21</td>\n",
       "      <td>6.0</td>\n",
       "      <td>0.0</td>\n",
       "    </tr>\n",
       "    <tr>\n",
       "      <th>3</th>\n",
       "      <td>Preprocessing</td>\n",
       "      <td>19/05/2023</td>\n",
       "      <td>19/05/2023</td>\n",
       "      <td>27</td>\n",
       "      <td>46.0</td>\n",
       "      <td>19.0</td>\n",
       "      <td>44</td>\n",
       "      <td>17</td>\n",
       "      <td>0.0</td>\n",
       "      <td>2.0</td>\n",
       "    </tr>\n",
       "    <tr>\n",
       "      <th>4</th>\n",
       "      <td>Feature_Engineering</td>\n",
       "      <td>19/05/2023</td>\n",
       "      <td>19/05/2023</td>\n",
       "      <td>44</td>\n",
       "      <td>49.0</td>\n",
       "      <td>5.0</td>\n",
       "      <td>46</td>\n",
       "      <td>2</td>\n",
       "      <td>0.0</td>\n",
       "      <td>3.0</td>\n",
       "    </tr>\n",
       "    <tr>\n",
       "      <th>5</th>\n",
       "      <td>Data_Validation</td>\n",
       "      <td>19/05/2023</td>\n",
       "      <td>19/05/2023</td>\n",
       "      <td>46</td>\n",
       "      <td>50.0</td>\n",
       "      <td>4.0</td>\n",
       "      <td>56</td>\n",
       "      <td>10</td>\n",
       "      <td>6.0</td>\n",
       "      <td>0.0</td>\n",
       "    </tr>\n",
       "    <tr>\n",
       "      <th>6</th>\n",
       "      <td>Model_Selection</td>\n",
       "      <td>20/05/2023</td>\n",
       "      <td>20/05/2023</td>\n",
       "      <td>56</td>\n",
       "      <td>60.0</td>\n",
       "      <td>4.0</td>\n",
       "      <td>59</td>\n",
       "      <td>3</td>\n",
       "      <td>0.0</td>\n",
       "      <td>1.0</td>\n",
       "    </tr>\n",
       "    <tr>\n",
       "      <th>7</th>\n",
       "      <td>Model_Training</td>\n",
       "      <td>20/05/2023</td>\n",
       "      <td>20/05/2023</td>\n",
       "      <td>59</td>\n",
       "      <td>75.0</td>\n",
       "      <td>16.0</td>\n",
       "      <td>70</td>\n",
       "      <td>11</td>\n",
       "      <td>0.0</td>\n",
       "      <td>5.0</td>\n",
       "    </tr>\n",
       "    <tr>\n",
       "      <th>8</th>\n",
       "      <td>Model_Validation</td>\n",
       "      <td>20/05/2023</td>\n",
       "      <td>20/05/2023</td>\n",
       "      <td>70</td>\n",
       "      <td>78.0</td>\n",
       "      <td>8.0</td>\n",
       "      <td>81</td>\n",
       "      <td>11</td>\n",
       "      <td>3.0</td>\n",
       "      <td>0.0</td>\n",
       "    </tr>\n",
       "    <tr>\n",
       "      <th>9</th>\n",
       "      <td>Hyperparameter_Tuning</td>\n",
       "      <td>21/05/2023</td>\n",
       "      <td>21/05/2023</td>\n",
       "      <td>81</td>\n",
       "      <td>85.0</td>\n",
       "      <td>4.0</td>\n",
       "      <td>82</td>\n",
       "      <td>1</td>\n",
       "      <td>0.0</td>\n",
       "      <td>3.0</td>\n",
       "    </tr>\n",
       "    <tr>\n",
       "      <th>10</th>\n",
       "      <td>Model_Evaluation</td>\n",
       "      <td>21/05/2023</td>\n",
       "      <td>21/05/2023</td>\n",
       "      <td>82</td>\n",
       "      <td>94.0</td>\n",
       "      <td>12.0</td>\n",
       "      <td>100</td>\n",
       "      <td>18</td>\n",
       "      <td>6.0</td>\n",
       "      <td>0.0</td>\n",
       "    </tr>\n",
       "    <tr>\n",
       "      <th>11</th>\n",
       "      <td>Model_Deployment</td>\n",
       "      <td>21/05/2023</td>\n",
       "      <td>21/05/2023</td>\n",
       "      <td>100</td>\n",
       "      <td>108.0</td>\n",
       "      <td>8.0</td>\n",
       "      <td>105</td>\n",
       "      <td>5</td>\n",
       "      <td>0.0</td>\n",
       "      <td>3.0</td>\n",
       "    </tr>\n",
       "    <tr>\n",
       "      <th>12</th>\n",
       "      <td>Model_Optimization</td>\n",
       "      <td>22/05/2023</td>\n",
       "      <td>22/05/2023</td>\n",
       "      <td>105</td>\n",
       "      <td>111.0</td>\n",
       "      <td>6.0</td>\n",
       "      <td>115</td>\n",
       "      <td>10</td>\n",
       "      <td>4.0</td>\n",
       "      <td>0.0</td>\n",
       "    </tr>\n",
       "    <tr>\n",
       "      <th>13</th>\n",
       "      <td>Maintenance</td>\n",
       "      <td>22/05/2023</td>\n",
       "      <td>22/05/2023</td>\n",
       "      <td>115</td>\n",
       "      <td>125.0</td>\n",
       "      <td>10.0</td>\n",
       "      <td>120</td>\n",
       "      <td>5</td>\n",
       "      <td>0.0</td>\n",
       "      <td>5.0</td>\n",
       "    </tr>\n",
       "    <tr>\n",
       "      <th>14</th>\n",
       "      <td>Project Review</td>\n",
       "      <td>22/05/2023</td>\n",
       "      <td>22/05/2023</td>\n",
       "      <td>120</td>\n",
       "      <td>128.0</td>\n",
       "      <td>8.0</td>\n",
       "      <td>132</td>\n",
       "      <td>12</td>\n",
       "      <td>4.0</td>\n",
       "      <td>0.0</td>\n",
       "    </tr>\n",
       "    <tr>\n",
       "      <th>15</th>\n",
       "      <td>Pipeline_Maintenance</td>\n",
       "      <td>22/05/2023</td>\n",
       "      <td>22/05/2023</td>\n",
       "      <td>132</td>\n",
       "      <td>140.0</td>\n",
       "      <td>8.0</td>\n",
       "      <td>134</td>\n",
       "      <td>2</td>\n",
       "      <td>0.0</td>\n",
       "      <td>6.0</td>\n",
       "    </tr>\n",
       "    <tr>\n",
       "      <th>16</th>\n",
       "      <td>General_Maintenance</td>\n",
       "      <td>22/05/2023</td>\n",
       "      <td>22/05/2023</td>\n",
       "      <td>134</td>\n",
       "      <td>142.0</td>\n",
       "      <td>8.0</td>\n",
       "      <td>140</td>\n",
       "      <td>6</td>\n",
       "      <td>0.0</td>\n",
       "      <td>2.0</td>\n",
       "    </tr>\n",
       "    <tr>\n",
       "      <th>17</th>\n",
       "      <td>Misc</td>\n",
       "      <td>22/05/2023</td>\n",
       "      <td>22/05/2023</td>\n",
       "      <td>140</td>\n",
       "      <td>NaN</td>\n",
       "      <td>NaN</td>\n",
       "      <td>141</td>\n",
       "      <td>1</td>\n",
       "      <td>0.0</td>\n",
       "      <td>0.0</td>\n",
       "    </tr>\n",
       "  </tbody>\n",
       "</table>\n",
       "</div>"
      ],
      "text/plain": [
       "                    Stage  start_date    end_date  starting_hour   \n",
       "0                Metadata  18/05/2023  18/05/2023              0  \\\n",
       "1      Initial_Processing  18/05/2023  18/05/2023              5   \n",
       "2     Initial_Exploration  18/05/2023  18/05/2023              6   \n",
       "3           Preprocessing  19/05/2023  19/05/2023             27   \n",
       "4     Feature_Engineering  19/05/2023  19/05/2023             44   \n",
       "5         Data_Validation  19/05/2023  19/05/2023             46   \n",
       "6         Model_Selection  20/05/2023  20/05/2023             56   \n",
       "7          Model_Training  20/05/2023  20/05/2023             59   \n",
       "8        Model_Validation  20/05/2023  20/05/2023             70   \n",
       "9   Hyperparameter_Tuning  21/05/2023  21/05/2023             81   \n",
       "10       Model_Evaluation  21/05/2023  21/05/2023             82   \n",
       "11       Model_Deployment  21/05/2023  21/05/2023            100   \n",
       "12     Model_Optimization  22/05/2023  22/05/2023            105   \n",
       "13            Maintenance  22/05/2023  22/05/2023            115   \n",
       "14         Project Review  22/05/2023  22/05/2023            120   \n",
       "15   Pipeline_Maintenance  22/05/2023  22/05/2023            132   \n",
       "16    General_Maintenance  22/05/2023  22/05/2023            134   \n",
       "17                   Misc  22/05/2023  22/05/2023            140   \n",
       "\n",
       "    estimated_end_hour  estimated_hours_to_complete  completion_hour   \n",
       "0                  4.0                          4.0                5  \\\n",
       "1                 10.0                          5.0                6   \n",
       "2                 21.0                         15.0               27   \n",
       "3                 46.0                         19.0               44   \n",
       "4                 49.0                          5.0               46   \n",
       "5                 50.0                          4.0               56   \n",
       "6                 60.0                          4.0               59   \n",
       "7                 75.0                         16.0               70   \n",
       "8                 78.0                          8.0               81   \n",
       "9                 85.0                          4.0               82   \n",
       "10                94.0                         12.0              100   \n",
       "11               108.0                          8.0              105   \n",
       "12               111.0                          6.0              115   \n",
       "13               125.0                         10.0              120   \n",
       "14               128.0                          8.0              132   \n",
       "15               140.0                          8.0              134   \n",
       "16               142.0                          8.0              140   \n",
       "17                 NaN                          NaN              141   \n",
       "\n",
       "    hours_spent  exceeded_hours  finished_early_hours  \n",
       "0             5             1.0                   0.0  \n",
       "1             1             0.0                   4.0  \n",
       "2            21             6.0                   0.0  \n",
       "3            17             0.0                   2.0  \n",
       "4             2             0.0                   3.0  \n",
       "5            10             6.0                   0.0  \n",
       "6             3             0.0                   1.0  \n",
       "7            11             0.0                   5.0  \n",
       "8            11             3.0                   0.0  \n",
       "9             1             0.0                   3.0  \n",
       "10           18             6.0                   0.0  \n",
       "11            5             0.0                   3.0  \n",
       "12           10             4.0                   0.0  \n",
       "13            5             0.0                   5.0  \n",
       "14           12             4.0                   0.0  \n",
       "15            2             0.0                   6.0  \n",
       "16            6             0.0                   2.0  \n",
       "17            1             0.0                   0.0  "
      ]
     },
     "execution_count": 3,
     "metadata": {},
     "output_type": "execute_result"
    }
   ],
   "source": [
    "df = gantt_input_data(stage_list, \n",
    "                     start_dates, \n",
    "                     end_dates, \n",
    "                     suggested_end_hours,\n",
    "                     completion_hour\n",
    "                     )\n",
    "df"
   ]
  },
  {
   "cell_type": "code",
   "execution_count": 4,
   "metadata": {},
   "outputs": [
    {
     "data": {
      "application/vnd.plotly.v1+json": {
       "config": {
        "plotlyServerURL": "https://plot.ly"
       },
       "data": [
        {
         "base": [
          0,
          5,
          6,
          27,
          44,
          46,
          56,
          59,
          70,
          81,
          82,
          100,
          105,
          115,
          120,
          132,
          134,
          140
         ],
         "marker": {
          "color": "rgb(153,153,153)",
          "line": {
           "color": "rgba(0,0,0,0)"
          }
         },
         "name": "Hours Spent",
         "orientation": "h",
         "type": "bar",
         "x": [
          5,
          1,
          21,
          17,
          2,
          10,
          3,
          11,
          11,
          1,
          18,
          5,
          10,
          5,
          12,
          2,
          6,
          1
         ],
         "y": [
          "Metadata",
          "Initial_Processing",
          "Initial_Exploration",
          "Preprocessing",
          "Feature_Engineering",
          "Data_Validation",
          "Model_Selection",
          "Model_Training",
          "Model_Validation",
          "Hyperparameter_Tuning",
          "Model_Evaluation",
          "Model_Deployment",
          "Model_Optimization",
          "Maintenance",
          "Project Review",
          "Pipeline_Maintenance",
          "General_Maintenance",
          "Misc"
         ]
        },
        {
         "base": [
          4,
          10,
          21,
          46,
          49,
          50,
          60,
          75,
          78,
          85,
          94,
          108,
          111,
          125,
          128,
          140,
          142,
          null
         ],
         "marker": {
          "color": "red",
          "line": {
           "color": "rgba(0,0,0,0)"
          },
          "opacity": 0.5
         },
         "name": "Exceeded Hours",
         "orientation": "h",
         "type": "bar",
         "x": [
          1,
          0,
          6,
          0,
          0,
          6,
          0,
          0,
          3,
          0,
          6,
          0,
          4,
          0,
          4,
          0,
          0,
          0
         ],
         "y": [
          "Metadata",
          "Initial_Processing",
          "Initial_Exploration",
          "Preprocessing",
          "Feature_Engineering",
          "Data_Validation",
          "Model_Selection",
          "Model_Training",
          "Model_Validation",
          "Hyperparameter_Tuning",
          "Model_Evaluation",
          "Model_Deployment",
          "Model_Optimization",
          "Maintenance",
          "Project Review",
          "Pipeline_Maintenance",
          "General_Maintenance",
          "Misc"
         ]
        },
        {
         "base": [
          5,
          6,
          27,
          44,
          46,
          56,
          59,
          70,
          81,
          82,
          100,
          105,
          115,
          120,
          132,
          134,
          140,
          141
         ],
         "marker": {
          "color": "green",
          "line": {
           "color": "rgba(0,0,0,0)"
          },
          "opacity": 0.5
         },
         "name": "Finished Early",
         "orientation": "h",
         "type": "bar",
         "x": [
          0,
          4,
          0,
          2,
          3,
          0,
          1,
          5,
          0,
          3,
          0,
          3,
          0,
          5,
          0,
          6,
          2,
          0
         ],
         "y": [
          "Metadata",
          "Initial_Processing",
          "Initial_Exploration",
          "Preprocessing",
          "Feature_Engineering",
          "Data_Validation",
          "Model_Selection",
          "Model_Training",
          "Model_Validation",
          "Hyperparameter_Tuning",
          "Model_Evaluation",
          "Model_Deployment",
          "Model_Optimization",
          "Maintenance",
          "Project Review",
          "Pipeline_Maintenance",
          "General_Maintenance",
          "Misc"
         ]
        }
       ],
       "layout": {
        "barmode": "stack",
        "height": 800,
        "hovermode": "closest",
        "margin": {
         "b": 20,
         "l": 20,
         "r": 20,
         "t": 40
        },
        "paper_bgcolor": "rgb(82, 106, 131)",
        "plot_bgcolor": "rgb(82, 106, 131)",
        "shapes": [
         {
          "line": {
           "color": "black",
           "width": 2
          },
          "type": "rect",
          "x0": 0,
          "x1": 1,
          "xref": "paper",
          "y0": 0,
          "y1": 1,
          "yref": "paper"
         }
        ],
        "showlegend": false,
        "template": {
         "data": {
          "bar": [
           {
            "error_x": {
             "color": "#2a3f5f"
            },
            "error_y": {
             "color": "#2a3f5f"
            },
            "marker": {
             "line": {
              "color": "#E5ECF6",
              "width": 0.5
             }
            },
            "type": "bar"
           }
          ],
          "barpolar": [
           {
            "marker": {
             "line": {
              "color": "#E5ECF6",
              "width": 0.5
             }
            },
            "type": "barpolar"
           }
          ],
          "carpet": [
           {
            "aaxis": {
             "endlinecolor": "#2a3f5f",
             "gridcolor": "white",
             "linecolor": "white",
             "minorgridcolor": "white",
             "startlinecolor": "#2a3f5f"
            },
            "baxis": {
             "endlinecolor": "#2a3f5f",
             "gridcolor": "white",
             "linecolor": "white",
             "minorgridcolor": "white",
             "startlinecolor": "#2a3f5f"
            },
            "type": "carpet"
           }
          ],
          "choropleth": [
           {
            "colorbar": {
             "outlinewidth": 0,
             "ticks": ""
            },
            "type": "choropleth"
           }
          ],
          "contour": [
           {
            "colorbar": {
             "outlinewidth": 0,
             "ticks": ""
            },
            "colorscale": [
             [
              0,
              "#0d0887"
             ],
             [
              0.1111111111111111,
              "#46039f"
             ],
             [
              0.2222222222222222,
              "#7201a8"
             ],
             [
              0.3333333333333333,
              "#9c179e"
             ],
             [
              0.4444444444444444,
              "#bd3786"
             ],
             [
              0.5555555555555556,
              "#d8576b"
             ],
             [
              0.6666666666666666,
              "#ed7953"
             ],
             [
              0.7777777777777778,
              "#fb9f3a"
             ],
             [
              0.8888888888888888,
              "#fdca26"
             ],
             [
              1,
              "#f0f921"
             ]
            ],
            "type": "contour"
           }
          ],
          "contourcarpet": [
           {
            "colorbar": {
             "outlinewidth": 0,
             "ticks": ""
            },
            "type": "contourcarpet"
           }
          ],
          "heatmap": [
           {
            "colorbar": {
             "outlinewidth": 0,
             "ticks": ""
            },
            "colorscale": [
             [
              0,
              "#0d0887"
             ],
             [
              0.1111111111111111,
              "#46039f"
             ],
             [
              0.2222222222222222,
              "#7201a8"
             ],
             [
              0.3333333333333333,
              "#9c179e"
             ],
             [
              0.4444444444444444,
              "#bd3786"
             ],
             [
              0.5555555555555556,
              "#d8576b"
             ],
             [
              0.6666666666666666,
              "#ed7953"
             ],
             [
              0.7777777777777778,
              "#fb9f3a"
             ],
             [
              0.8888888888888888,
              "#fdca26"
             ],
             [
              1,
              "#f0f921"
             ]
            ],
            "type": "heatmap"
           }
          ],
          "heatmapgl": [
           {
            "colorbar": {
             "outlinewidth": 0,
             "ticks": ""
            },
            "colorscale": [
             [
              0,
              "#0d0887"
             ],
             [
              0.1111111111111111,
              "#46039f"
             ],
             [
              0.2222222222222222,
              "#7201a8"
             ],
             [
              0.3333333333333333,
              "#9c179e"
             ],
             [
              0.4444444444444444,
              "#bd3786"
             ],
             [
              0.5555555555555556,
              "#d8576b"
             ],
             [
              0.6666666666666666,
              "#ed7953"
             ],
             [
              0.7777777777777778,
              "#fb9f3a"
             ],
             [
              0.8888888888888888,
              "#fdca26"
             ],
             [
              1,
              "#f0f921"
             ]
            ],
            "type": "heatmapgl"
           }
          ],
          "histogram": [
           {
            "marker": {
             "colorbar": {
              "outlinewidth": 0,
              "ticks": ""
             }
            },
            "type": "histogram"
           }
          ],
          "histogram2d": [
           {
            "colorbar": {
             "outlinewidth": 0,
             "ticks": ""
            },
            "colorscale": [
             [
              0,
              "#0d0887"
             ],
             [
              0.1111111111111111,
              "#46039f"
             ],
             [
              0.2222222222222222,
              "#7201a8"
             ],
             [
              0.3333333333333333,
              "#9c179e"
             ],
             [
              0.4444444444444444,
              "#bd3786"
             ],
             [
              0.5555555555555556,
              "#d8576b"
             ],
             [
              0.6666666666666666,
              "#ed7953"
             ],
             [
              0.7777777777777778,
              "#fb9f3a"
             ],
             [
              0.8888888888888888,
              "#fdca26"
             ],
             [
              1,
              "#f0f921"
             ]
            ],
            "type": "histogram2d"
           }
          ],
          "histogram2dcontour": [
           {
            "colorbar": {
             "outlinewidth": 0,
             "ticks": ""
            },
            "colorscale": [
             [
              0,
              "#0d0887"
             ],
             [
              0.1111111111111111,
              "#46039f"
             ],
             [
              0.2222222222222222,
              "#7201a8"
             ],
             [
              0.3333333333333333,
              "#9c179e"
             ],
             [
              0.4444444444444444,
              "#bd3786"
             ],
             [
              0.5555555555555556,
              "#d8576b"
             ],
             [
              0.6666666666666666,
              "#ed7953"
             ],
             [
              0.7777777777777778,
              "#fb9f3a"
             ],
             [
              0.8888888888888888,
              "#fdca26"
             ],
             [
              1,
              "#f0f921"
             ]
            ],
            "type": "histogram2dcontour"
           }
          ],
          "mesh3d": [
           {
            "colorbar": {
             "outlinewidth": 0,
             "ticks": ""
            },
            "type": "mesh3d"
           }
          ],
          "parcoords": [
           {
            "line": {
             "colorbar": {
              "outlinewidth": 0,
              "ticks": ""
             }
            },
            "type": "parcoords"
           }
          ],
          "pie": [
           {
            "automargin": true,
            "type": "pie"
           }
          ],
          "scatter": [
           {
            "marker": {
             "colorbar": {
              "outlinewidth": 0,
              "ticks": ""
             }
            },
            "type": "scatter"
           }
          ],
          "scatter3d": [
           {
            "line": {
             "colorbar": {
              "outlinewidth": 0,
              "ticks": ""
             }
            },
            "marker": {
             "colorbar": {
              "outlinewidth": 0,
              "ticks": ""
             }
            },
            "type": "scatter3d"
           }
          ],
          "scattercarpet": [
           {
            "marker": {
             "colorbar": {
              "outlinewidth": 0,
              "ticks": ""
             }
            },
            "type": "scattercarpet"
           }
          ],
          "scattergeo": [
           {
            "marker": {
             "colorbar": {
              "outlinewidth": 0,
              "ticks": ""
             }
            },
            "type": "scattergeo"
           }
          ],
          "scattergl": [
           {
            "marker": {
             "colorbar": {
              "outlinewidth": 0,
              "ticks": ""
             }
            },
            "type": "scattergl"
           }
          ],
          "scattermapbox": [
           {
            "marker": {
             "colorbar": {
              "outlinewidth": 0,
              "ticks": ""
             }
            },
            "type": "scattermapbox"
           }
          ],
          "scatterpolar": [
           {
            "marker": {
             "colorbar": {
              "outlinewidth": 0,
              "ticks": ""
             }
            },
            "type": "scatterpolar"
           }
          ],
          "scatterpolargl": [
           {
            "marker": {
             "colorbar": {
              "outlinewidth": 0,
              "ticks": ""
             }
            },
            "type": "scatterpolargl"
           }
          ],
          "scatterternary": [
           {
            "marker": {
             "colorbar": {
              "outlinewidth": 0,
              "ticks": ""
             }
            },
            "type": "scatterternary"
           }
          ],
          "surface": [
           {
            "colorbar": {
             "outlinewidth": 0,
             "ticks": ""
            },
            "colorscale": [
             [
              0,
              "#0d0887"
             ],
             [
              0.1111111111111111,
              "#46039f"
             ],
             [
              0.2222222222222222,
              "#7201a8"
             ],
             [
              0.3333333333333333,
              "#9c179e"
             ],
             [
              0.4444444444444444,
              "#bd3786"
             ],
             [
              0.5555555555555556,
              "#d8576b"
             ],
             [
              0.6666666666666666,
              "#ed7953"
             ],
             [
              0.7777777777777778,
              "#fb9f3a"
             ],
             [
              0.8888888888888888,
              "#fdca26"
             ],
             [
              1,
              "#f0f921"
             ]
            ],
            "type": "surface"
           }
          ],
          "table": [
           {
            "cells": {
             "fill": {
              "color": "#EBF0F8"
             },
             "line": {
              "color": "white"
             }
            },
            "header": {
             "fill": {
              "color": "#C8D4E3"
             },
             "line": {
              "color": "white"
             }
            },
            "type": "table"
           }
          ]
         },
         "layout": {
          "annotationdefaults": {
           "arrowcolor": "#2a3f5f",
           "arrowhead": 0,
           "arrowwidth": 1
          },
          "autotypenumbers": "strict",
          "coloraxis": {
           "colorbar": {
            "outlinewidth": 0,
            "ticks": ""
           }
          },
          "colorscale": {
           "diverging": [
            [
             0,
             "#8e0152"
            ],
            [
             0.1,
             "#c51b7d"
            ],
            [
             0.2,
             "#de77ae"
            ],
            [
             0.3,
             "#f1b6da"
            ],
            [
             0.4,
             "#fde0ef"
            ],
            [
             0.5,
             "#f7f7f7"
            ],
            [
             0.6,
             "#e6f5d0"
            ],
            [
             0.7,
             "#b8e186"
            ],
            [
             0.8,
             "#7fbc41"
            ],
            [
             0.9,
             "#4d9221"
            ],
            [
             1,
             "#276419"
            ]
           ],
           "sequential": [
            [
             0,
             "#0d0887"
            ],
            [
             0.1111111111111111,
             "#46039f"
            ],
            [
             0.2222222222222222,
             "#7201a8"
            ],
            [
             0.3333333333333333,
             "#9c179e"
            ],
            [
             0.4444444444444444,
             "#bd3786"
            ],
            [
             0.5555555555555556,
             "#d8576b"
            ],
            [
             0.6666666666666666,
             "#ed7953"
            ],
            [
             0.7777777777777778,
             "#fb9f3a"
            ],
            [
             0.8888888888888888,
             "#fdca26"
            ],
            [
             1,
             "#f0f921"
            ]
           ],
           "sequentialminus": [
            [
             0,
             "#0d0887"
            ],
            [
             0.1111111111111111,
             "#46039f"
            ],
            [
             0.2222222222222222,
             "#7201a8"
            ],
            [
             0.3333333333333333,
             "#9c179e"
            ],
            [
             0.4444444444444444,
             "#bd3786"
            ],
            [
             0.5555555555555556,
             "#d8576b"
            ],
            [
             0.6666666666666666,
             "#ed7953"
            ],
            [
             0.7777777777777778,
             "#fb9f3a"
            ],
            [
             0.8888888888888888,
             "#fdca26"
            ],
            [
             1,
             "#f0f921"
            ]
           ]
          },
          "colorway": [
           "#636efa",
           "#EF553B",
           "#00cc96",
           "#ab63fa",
           "#FFA15A",
           "#19d3f3",
           "#FF6692",
           "#B6E880",
           "#FF97FF",
           "#FECB52"
          ],
          "font": {
           "color": "#2a3f5f"
          },
          "geo": {
           "bgcolor": "white",
           "lakecolor": "white",
           "landcolor": "#E5ECF6",
           "showlakes": true,
           "showland": true,
           "subunitcolor": "white"
          },
          "hoverlabel": {
           "align": "left"
          },
          "hovermode": "closest",
          "mapbox": {
           "style": "light"
          },
          "paper_bgcolor": "white",
          "plot_bgcolor": "#E5ECF6",
          "polar": {
           "angularaxis": {
            "gridcolor": "white",
            "linecolor": "white",
            "ticks": ""
           },
           "bgcolor": "#E5ECF6",
           "radialaxis": {
            "gridcolor": "white",
            "linecolor": "white",
            "ticks": ""
           }
          },
          "scene": {
           "xaxis": {
            "backgroundcolor": "#E5ECF6",
            "gridcolor": "white",
            "gridwidth": 2,
            "linecolor": "white",
            "showbackground": true,
            "ticks": "",
            "zerolinecolor": "white"
           },
           "yaxis": {
            "backgroundcolor": "#E5ECF6",
            "gridcolor": "white",
            "gridwidth": 2,
            "linecolor": "white",
            "showbackground": true,
            "ticks": "",
            "zerolinecolor": "white"
           },
           "zaxis": {
            "backgroundcolor": "#E5ECF6",
            "gridcolor": "white",
            "gridwidth": 2,
            "linecolor": "white",
            "showbackground": true,
            "ticks": "",
            "zerolinecolor": "white"
           }
          },
          "shapedefaults": {
           "line": {
            "color": "#2a3f5f"
           }
          },
          "ternary": {
           "aaxis": {
            "gridcolor": "white",
            "linecolor": "white",
            "ticks": ""
           },
           "baxis": {
            "gridcolor": "white",
            "linecolor": "white",
            "ticks": ""
           },
           "bgcolor": "#E5ECF6",
           "caxis": {
            "gridcolor": "white",
            "linecolor": "white",
            "ticks": ""
           }
          },
          "title": {
           "x": 0.05
          },
          "xaxis": {
           "automargin": true,
           "gridcolor": "white",
           "linecolor": "white",
           "ticks": "",
           "title": {
            "standoff": 15
           },
           "zerolinecolor": "white",
           "zerolinewidth": 2
          },
          "yaxis": {
           "automargin": true,
           "gridcolor": "white",
           "linecolor": "white",
           "ticks": "",
           "title": {
            "standoff": 15
           },
           "zerolinecolor": "white",
           "zerolinewidth": 2
          }
         }
        },
        "title": {
         "font": {
          "color": "black",
          "size": 24
         },
         "text": "Gantt Chart"
        },
        "xaxis": {
         "dtick": 5,
         "gridcolor": "black",
         "linecolor": "black",
         "linewidth": 1,
         "showgrid": true,
         "showline": true,
         "tickfont": {
          "color": "black"
         },
         "tickmode": "linear",
         "title": {
          "font": {
           "color": "black"
          },
          "text": "Project Hours"
         }
        },
        "yaxis": {
         "linecolor": "grey",
         "linewidth": 1,
         "showgrid": false,
         "showline": true,
         "tickfont": {
          "color": "black"
         },
         "title": {
          "font": {
           "color": "black"
          },
          "text": "Stage"
         }
        }
       }
      }
     },
     "metadata": {},
     "output_type": "display_data"
    }
   ],
   "source": [
    "create_gantt_chart(df)"
   ]
  },
  {
   "cell_type": "code",
   "execution_count": null,
   "metadata": {},
   "outputs": [],
   "source": []
  }
 ],
 "metadata": {
  "kernelspec": {
   "display_name": "Python 3",
   "language": "python",
   "name": "python3"
  },
  "language_info": {
   "codemirror_mode": {
    "name": "ipython",
    "version": 3
   },
   "file_extension": ".py",
   "mimetype": "text/x-python",
   "name": "python",
   "nbconvert_exporter": "python",
   "pygments_lexer": "ipython3",
   "version": "3.11.3"
  },
  "orig_nbformat": 4
 },
 "nbformat": 4,
 "nbformat_minor": 2
}
